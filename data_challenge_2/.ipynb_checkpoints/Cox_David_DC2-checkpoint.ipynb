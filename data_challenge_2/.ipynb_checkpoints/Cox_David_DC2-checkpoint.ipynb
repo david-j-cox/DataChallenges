{
 "cells": [
  {
   "cell_type": "markdown",
   "metadata": {},
   "source": [
    "# Employee Retention\n",
    "\n",
    "## Goal\n",
    "\n",
    "Employee turnover is a very costly problem for companies. The cost of replacing an employee if often larger than 100K USD, taking into account the time spent to interview and find a replacement, placement fees, sign-on bonuses and the loss of productivity for several months.\n",
    "__TURN INTO DOLLARS SAVED__\n",
    "\n",
    "In this challenge, you have a data set with info about the employees and have to predict when employees are going to quit by understanding the main drivers of employee churn. __FEATURE IMPORTANCE MATTERS__\n",
    "\n",
    "\n",
    "## Challenge Description\n",
    "- The goal is to predict employee retention and understand its main drivers\n",
    "\n",
    "\n",
    "## Hints:\n",
    "What are the main factors that drive employee churn? Do they make sense? Explain your findings.\n",
    "\n",
    "What might you be able to do for the company to address employee Churn, what would be follow-up actions?\n",
    "\n",
    "If you could add to this data set just one variable that could help explain employee churn, what would that be?\n",
    "\n",
    "\n",
    "## Data\n",
    "\n",
    "The table is:\n",
    "\n",
    "\"employee_retention\" - comprehensive information about employees.\n",
    "Columns:\n",
    "\n",
    "employee_id : id of the employee. Unique by employee per company\n",
    "\n",
    "company_id : company id.\n",
    "\n",
    "dept : employee department\n",
    "\n",
    "seniority : number of yrs of work experience when hired\n",
    "\n",
    "salary: average yearly salary of the employee during her tenure within the company\n",
    "\n",
    "join_date: when the employee joined the company, it can only be between 2011/01/24 and 2015/12/13\n",
    "\n",
    "quit_date: when the employee left her job (if she is still employed as of 2015/12/13, this field is NA)\n"
   ]
  },
  {
   "cell_type": "code",
   "execution_count": 1,
   "metadata": {},
   "outputs": [],
   "source": [
    "import pandas as pd\n",
    "import seaborn as sns\n",
    "import matplotlib.pyplot as plt\n",
    "import numpy as np\n",
    "from datetime import datetime\n",
    "%matplotlib inline"
   ]
  },
  {
   "cell_type": "code",
   "execution_count": 2,
   "metadata": {},
   "outputs": [
    {
     "data": {
      "text/html": [
       "<div>\n",
       "<style scoped>\n",
       "    .dataframe tbody tr th:only-of-type {\n",
       "        vertical-align: middle;\n",
       "    }\n",
       "\n",
       "    .dataframe tbody tr th {\n",
       "        vertical-align: top;\n",
       "    }\n",
       "\n",
       "    .dataframe thead th {\n",
       "        text-align: right;\n",
       "    }\n",
       "</style>\n",
       "<table border=\"1\" class=\"dataframe\">\n",
       "  <thead>\n",
       "    <tr style=\"text-align: right;\">\n",
       "      <th></th>\n",
       "      <th>employee_id</th>\n",
       "      <th>company_id</th>\n",
       "      <th>dept</th>\n",
       "      <th>seniority</th>\n",
       "      <th>salary</th>\n",
       "      <th>join_date</th>\n",
       "      <th>quit_date</th>\n",
       "    </tr>\n",
       "  </thead>\n",
       "  <tbody>\n",
       "    <tr>\n",
       "      <td>0</td>\n",
       "      <td>1001444.0</td>\n",
       "      <td>8</td>\n",
       "      <td>temp_contractor</td>\n",
       "      <td>0</td>\n",
       "      <td>5850.0</td>\n",
       "      <td>2008-01-26</td>\n",
       "      <td>2008-04-25</td>\n",
       "    </tr>\n",
       "    <tr>\n",
       "      <td>1</td>\n",
       "      <td>388804.0</td>\n",
       "      <td>8</td>\n",
       "      <td>design</td>\n",
       "      <td>21</td>\n",
       "      <td>191000.0</td>\n",
       "      <td>05.17.2011</td>\n",
       "      <td>2012-03-16</td>\n",
       "    </tr>\n",
       "    <tr>\n",
       "      <td>2</td>\n",
       "      <td>407990.0</td>\n",
       "      <td>3</td>\n",
       "      <td>design</td>\n",
       "      <td>9</td>\n",
       "      <td>90000.0</td>\n",
       "      <td>2012-03-26</td>\n",
       "      <td>2015-04-10</td>\n",
       "    </tr>\n",
       "    <tr>\n",
       "      <td>3</td>\n",
       "      <td>120657.0</td>\n",
       "      <td>2</td>\n",
       "      <td>engineer</td>\n",
       "      <td>20</td>\n",
       "      <td>298000.0</td>\n",
       "      <td>2013-04-08</td>\n",
       "      <td>2015-01-30</td>\n",
       "    </tr>\n",
       "    <tr>\n",
       "      <td>4</td>\n",
       "      <td>1006393.0</td>\n",
       "      <td>1</td>\n",
       "      <td>temp_contractor</td>\n",
       "      <td>0</td>\n",
       "      <td>8509.0</td>\n",
       "      <td>2008-07-20</td>\n",
       "      <td>2008-10-18</td>\n",
       "    </tr>\n",
       "  </tbody>\n",
       "</table>\n",
       "</div>"
      ],
      "text/plain": [
       "   employee_id  company_id             dept  seniority    salary   join_date  \\\n",
       "0    1001444.0           8  temp_contractor          0    5850.0  2008-01-26   \n",
       "1     388804.0           8           design         21  191000.0  05.17.2011   \n",
       "2     407990.0           3           design          9   90000.0  2012-03-26   \n",
       "3     120657.0           2         engineer         20  298000.0  2013-04-08   \n",
       "4    1006393.0           1  temp_contractor          0    8509.0  2008-07-20   \n",
       "\n",
       "    quit_date  \n",
       "0  2008-04-25  \n",
       "1  2012-03-16  \n",
       "2  2015-04-10  \n",
       "3  2015-01-30  \n",
       "4  2008-10-18  "
      ]
     },
     "execution_count": 2,
     "metadata": {},
     "output_type": "execute_result"
    }
   ],
   "source": [
    "raw = pd.read_csv('employee_retention.csv')\n",
    "raw = raw.drop(['Unnamed: 0'], axis=1)\n",
    "raw.head()"
   ]
  },
  {
   "cell_type": "code",
   "execution_count": 3,
   "metadata": {},
   "outputs": [
    {
     "name": "stdout",
     "output_type": "stream",
     "text": [
      "<class 'pandas.core.frame.DataFrame'>\n",
      "RangeIndex: 34702 entries, 0 to 34701\n",
      "Data columns (total 7 columns):\n",
      "employee_id    34702 non-null float64\n",
      "company_id     34702 non-null int64\n",
      "dept           34702 non-null object\n",
      "seniority      34702 non-null int64\n",
      "salary         34463 non-null float64\n",
      "join_date      34702 non-null object\n",
      "quit_date      23510 non-null object\n",
      "dtypes: float64(2), int64(2), object(3)\n",
      "memory usage: 1.9+ MB\n"
     ]
    }
   ],
   "source": [
    "data = raw.copy()\n",
    "data.info()"
   ]
  },
  {
   "cell_type": "code",
   "execution_count": 4,
   "metadata": {},
   "outputs": [],
   "source": [
    "# Create column for whether still working (i.e., 0, 1). \n",
    "from datetime import timedelta\n",
    "data['working'] = np.where(data.quit_date.isna(), 1, 0)"
   ]
  },
  {
   "cell_type": "code",
   "execution_count": 5,
   "metadata": {},
   "outputs": [
    {
     "name": "stdout",
     "output_type": "stream",
     "text": [
      "<class 'pandas.core.frame.DataFrame'>\n",
      "RangeIndex: 34702 entries, 0 to 34701\n",
      "Data columns (total 8 columns):\n",
      "employee_id    34702 non-null float64\n",
      "company_id     34702 non-null int64\n",
      "dept           34702 non-null object\n",
      "seniority      34702 non-null int64\n",
      "salary         34463 non-null float64\n",
      "join_date      34702 non-null datetime64[ns]\n",
      "quit_date      34702 non-null datetime64[ns]\n",
      "working        34702 non-null int64\n",
      "dtypes: datetime64[ns](2), float64(2), int64(3), object(1)\n",
      "memory usage: 2.1+ MB\n"
     ]
    }
   ],
   "source": [
    "# Convert errors in datetime entry objects to datetime data types\n",
    "data['quit_date'] = data.fillna('2015-12-13')\n",
    "date_cols = ['join_date', 'quit_date']\n",
    "for i in date_cols:\n",
    "    data[i] = pd.to_datetime(data[i])\n",
    "data.info()"
   ]
  },
  {
   "cell_type": "code",
   "execution_count": 21,
   "metadata": {},
   "outputs": [],
   "source": [
    "# Create s for time on the job (i.e., delta end-start)\n",
    "data['duration_worked'] = (data['join_date'] - data['quit_date']).dt.days\n",
    "data_cols = list(data)"
   ]
  },
  {
   "cell_type": "code",
   "execution_count": 23,
   "metadata": {},
   "outputs": [
    {
     "name": "stdout",
     "output_type": "stream",
     "text": [
      "Missing: 0 \n",
      " 330596.0     1\n",
      "1003669.0    1\n",
      "1003655.0    1\n",
      "370756.0     1\n",
      "1003657.0    1\n",
      "            ..\n",
      "825374.0     1\n",
      "173576.0     1\n",
      "628769.0     1\n",
      "478226.0     1\n",
      "512.0        1\n",
      "Name: employee_id, Length: 34463, dtype: int64 \n",
      "\n",
      "Missing: 0 \n",
      " 1     9423\n",
      "2     5178\n",
      "3     3748\n",
      "4     3046\n",
      "5     2734\n",
      "6     2243\n",
      "7     2170\n",
      "8     2011\n",
      "9     1998\n",
      "10    1873\n",
      "12      23\n",
      "11      16\n",
      "Name: company_id, dtype: int64 \n",
      "\n",
      "Missing: 0 \n",
      " temp_contractor     10000\n",
      "customer_service     9089\n",
      "engineer             4569\n",
      "data_science         3157\n",
      "sales                3148\n",
      "marketing            3133\n",
      "design               1367\n",
      "Name: dept, dtype: int64 \n",
      "\n",
      "Missing: 0 \n",
      " 0     10000\n",
      "8       996\n",
      "12      978\n",
      "6       939\n",
      "9       933\n",
      "2       931\n",
      "16      931\n",
      "5       925\n",
      "10      920\n",
      "11      919\n",
      "7       917\n",
      "14      912\n",
      "15      903\n",
      "19      902\n",
      "4       886\n",
      "13      886\n",
      "17      881\n",
      "3       868\n",
      "18      861\n",
      "1       858\n",
      "20      838\n",
      "23      782\n",
      "21      770\n",
      "22      758\n",
      "24      737\n",
      "25      708\n",
      "26      683\n",
      "27      634\n",
      "29      625\n",
      "28      580\n",
      "99        1\n",
      "98        1\n",
      "Name: seniority, dtype: int64 \n",
      "\n",
      "Missing: 0 \n",
      " 66000.0     185\n",
      "103000.0    176\n",
      "67000.0     170\n",
      "62000.0     165\n",
      "109000.0    162\n",
      "           ... \n",
      "9374.0        1\n",
      "5605.0        1\n",
      "6088.0        1\n",
      "5379.0        1\n",
      "8572.0        1\n",
      "Name: salary, Length: 4726, dtype: int64 \n",
      "\n",
      "Missing: 0 \n",
      " 2011-08-29    104\n",
      "2012-01-03    103\n",
      "2014-05-12    103\n",
      "2014-03-24    102\n",
      "2012-03-26    102\n",
      "             ... \n",
      "2015-07-30      1\n",
      "2014-08-14      1\n",
      "2012-10-18      1\n",
      "2011-12-15      1\n",
      "2013-11-27      1\n",
      "Name: join_date, Length: 2339, dtype: int64 \n",
      "\n",
      "Missing: 0 \n",
      " 1970-01-01    34463\n",
      "Name: quit_date, dtype: int64 \n",
      "\n",
      "Missing: 0 \n",
      " 0    23379\n",
      "1    11084\n",
      "Name: working, dtype: int64 \n",
      "\n",
      "Missing: 0 \n",
      " 15215    104\n",
      "16202    103\n",
      "15342    103\n",
      "16153    102\n",
      "15425    102\n",
      "        ... \n",
      "16283      1\n",
      "16121      1\n",
      "16094      1\n",
      "16051      1\n",
      "16632      1\n",
      "Name: duration_worked, Length: 2339, dtype: int64 \n",
      "\n"
     ]
    }
   ],
   "source": [
    "data = data.dropna()\n",
    "for i in data_cols:\n",
    "    print(\"Missing:\", data[i].isna().sum(), \"\\n\", data[i].value_counts(), \"\\n\")"
   ]
  },
  {
   "cell_type": "code",
   "execution_count": 27,
   "metadata": {},
   "outputs": [
    {
     "data": {
      "text/plain": [
       "count                   34463\n",
       "unique                   2339\n",
       "top       2011-08-29 00:00:00\n",
       "freq                      104\n",
       "first     2007-01-01 00:00:00\n",
       "last      2015-12-10 00:00:00\n",
       "Name: join_date, dtype: object"
      ]
     },
     "execution_count": 27,
     "metadata": {},
     "output_type": "execute_result"
    }
   ],
   "source": [
    "data.join_date.describe()"
   ]
  },
  {
   "cell_type": "code",
   "execution_count": 24,
   "metadata": {},
   "outputs": [
    {
     "data": {
      "text/plain": [
       "array([[<matplotlib.axes._subplots.AxesSubplot object at 0x1a20e37fd0>,\n",
       "        <matplotlib.axes._subplots.AxesSubplot object at 0x1a20e76cd0>],\n",
       "       [<matplotlib.axes._subplots.AxesSubplot object at 0x1a20ac4650>,\n",
       "        <matplotlib.axes._subplots.AxesSubplot object at 0x1a20f3ae10>],\n",
       "       [<matplotlib.axes._subplots.AxesSubplot object at 0x1a21047650>,\n",
       "        <matplotlib.axes._subplots.AxesSubplot object at 0x1a21077e50>]],\n",
       "      dtype=object)"
      ]
     },
     "execution_count": 24,
     "metadata": {},
     "output_type": "execute_result"
    },
    {
     "data": {
      "image/png": "[encoded data removed]",
      "text/plain": [
       "<Figure size 1440x1080 with 6 Axes>"
      ]
     },
     "metadata": {
      "needs_background": "light"
     },
     "output_type": "display_data"
    }
   ],
   "source": [
    "plot_cols = ['company_id', 'duration_worked', 'salary', 'seniority', 'working']\n",
    "data[plot_cols].hist(bins=50, figsize=(20,15))"
   ]
  },
  {
   "cell_type": "code",
   "execution_count": 25,
   "metadata": {},
   "outputs": [
    {
     "data": {
      "image/png": "[encoded data removed]",
      "text/plain": [
       "<Figure size 432x288 with 3 Axes>"
      ]
     },
     "metadata": {
      "needs_background": "light"
     },
     "output_type": "display_data"
    }
   ],
   "source": [
    "# Plot the relationship between each feature as a function of still working or not. \n",
    "import seaborn as sns\n",
    "vio_cols = ['duration_worked', 'salary', 'seniority']\n",
    "f, axes = plt.subplots(1, 3)\n",
    "sns.violinplot(x='working', y='duration_worked', data=data, ax=axes[0])\n",
    "sns.violinplot(x='working', y='salary', data=data, ax=axes[1])\n",
    "sns.violinplot(x='working', y='seniority', data=data, ax=axes[2])\n",
    "plt.subplots_adjust(left=0.25, bottom=0.1, right=0.9, top=0.9, wspace=0.5, hspace=0.5)\n",
    "plt.tight_layout()"
   ]
  },
  {
   "cell_type": "code",
   "execution_count": null,
   "metadata": {},
   "outputs": [],
   "source": [
    "# log-transform data as they all seem highly skewed\n",
    "for i in vio_cols:\n",
    "    data[i] = data[i].transform(np.sqrt)"
   ]
  },
  {
   "cell_type": "code",
   "execution_count": null,
   "metadata": {},
   "outputs": [],
   "source": [
    "# Plot the relationship between each feature as a function of still working or not. \n",
    "import seaborn as sns\n",
    "vio_cols = ['duration_worked', 'salary', 'seniority']\n",
    "f, axes = plt.subplots(1, 3)\n",
    "sns.violinplot(x='working', y='duration_worked', data=data, ax=axes[0])\n",
    "sns.violinplot(x='working', y='salary', data=data, ax=axes[1])\n",
    "sns.violinplot(x='working', y='seniority', data=data, ax=axes[2])\n",
    "plt.subplots_adjust(left=0.25, bottom=0.1, right=0.9, top=0.9, wspace=0.5, hspace=0.5)\n",
    "plt.tight_layout()"
   ]
  },
  {
   "cell_type": "markdown",
   "metadata": {},
   "source": [
    "# Checklist\n",
    "1. Frame the problem and look at the big picture.\n",
    "1. Get the data.\n",
    "1. Explore the data to gain insights.\n",
    "1. Prepare the data to better expose the underlying data patterns to Machine Learning algorithms.\n",
    "1. Explore many different models and shortlist the best ones.\n",
    "1. Fine-tune your models and combine them into a great solution.\n",
    "1. Present your solution.\n",
    "1. Launch, monitor, and maintain your system."
   ]
  },
  {
   "cell_type": "markdown",
   "metadata": {},
   "source": [
    "## Frame the problem. \n",
    "1. Define the objective in business terms.\n",
    "1. How will your solution be used?\n",
    "1. What are the current solutions/workarounds (if any)?\n",
    "1. How should you frame this problem (supervised/unsupervised, online/offline, etc.)?\n",
    "1. How should performance be measured?\n",
    "1. Is the performance measure aligned with the business objective?\n",
    "1. What would be the minimum performance needed to reach the business objective?\n",
    "1. What are comparable problems? Can you reuse experience or tools?\n",
    "1. Is human expertise available?\n",
    "1. How would you solve the problem manually?\n",
    "1. List the assumptions you (or others) have made so far.\n",
    "1. Verify assumptions if possible."
   ]
  },
  {
   "cell_type": "markdown",
   "metadata": {},
   "source": [
    "## Get the Data\n",
    "1. Problems with data stewardship?\n",
    "1. List the data you need and how much you need.\n",
    "1. Find and document where you can get that data.\n",
    "1. Check how much space it will take.\n",
    "1. Check legal obligations, and get authorization if necessary.\n",
    "1. Get access authorizations.\n",
    "1. Create a workspace (with enough storage space).\n",
    "1. Get the data.\n",
    "1. Convert the data to a format you can easily manipulate (without changing the data itself).\n",
    "1. Ensure sensitive information is deleted or protected (e.g., anonymized).\n",
    "1. Check the size and type of data (time series, sample, geographical, etc.).\n",
    "1. Sample a test set, put it aside, and never look at it (no data snooping!)."
   ]
  },
  {
   "cell_type": "markdown",
   "metadata": {},
   "source": [
    "## Explore the Data\n",
    "1. Create a copy of the data for exploration (sampling it down to a manageable size if necessary).\n",
    "1. Create a Jupyter notebook to keep a record of your data exploration.\n",
    "1. Study each attribute and its characteristics:\n",
    "    1. Name\n",
    "    1. Type (categorical, int/float, bounded/unbounded, text, structured, etc.)\n",
    "    1. % of missing values\n",
    "    1. Noisiness and type of noise (stochastic, outliers, rounding errors, etc.)\n",
    "    1. Usefulness for the task\n",
    "    1. Type of distribution (Gaussian, uniform, logarithmic, etc.)\n",
    "1. For supervised learning tasks, identify the target attribute(s).\n",
    "1. Visualize the data.\n",
    "1. Study the correlations between attributes.\n",
    "1. Study how you would solve the problem manually.\n",
    "1. Identify the promising transformations you may want to apply.\n",
    "1. Identify extra data that would be useful (go back to “Get the Data” ).\n",
    "1. Document what you have learned."
   ]
  },
  {
   "cell_type": "markdown",
   "metadata": {},
   "source": [
    "## Prepare the Data\n",
    "1. Work on copies of the data (keep the original dataset intact).\n",
    "1. Write functions for all data transformations you apply, for five reasons:\n",
    "1. So you can easily prepare the data the next time you get a fresh dataset\n",
    "1. So you can apply these transformations in future projects\n",
    "1. To clean and prepare the test set\n",
    "1. To clean and prepare new data instances once your solution is live\n",
    "1. To make it easy to treat your preparation choices as hyperparameters\n",
    "1. Data cleaning:\n",
    "    1. Fix or remove outliers (optional).\n",
    "    1. Fill in missing values (e.g., with zero, mean, median…) or drop their rows (or columns).\n",
    "1. Feature selection (optional):\n",
    "    1. Drop the attributes that provide no useful information for the task.\n",
    "1. Feature engineering, where appropriate:\n",
    "    1. Discretize continuous features.\n",
    "    1. Decompose features (e.g., categorical, date/time, etc.).\n",
    "    1. Add promising transformations of features (e.g., log( x ), sqrt( x ), x 2 , etc.).\n",
    "    1. Aggregate features into promising new features.\n",
    "1. Feature scaling:\n",
    "    1. Standardize or normalize features."
   ]
  },
  {
   "cell_type": "markdown",
   "metadata": {},
   "source": [
    "## Shortlist Promising Models\n",
    "1. If the data is huge, you may want to sample smaller training sets so you can train many different models in a reasonable time (be aware that this penalizes complex models such as large neural nets or Random Forests).\n",
    "1. Once again, try to automate these steps as much as possible.\n",
    "1. Train many quick-and-dirty models from different categories (e.g., linear, naive Bayes, SVM, Random Forest, neural net, etc.) using standard parameters.\n",
    "1. Measure and compare their performance.\n",
    "    1. For each model, use N fold cross-validation and compute the mean and standard deviation of the performance measure on the N folds.\n",
    "1. Analyze the most significant variables for each algorithm.\n",
    "1. Analyze the types of errors the models make.\n",
    "    1. What data would a human have used to avoid these errors?\n",
    "1. Perform a quick round of feature selection and engineering.\n",
    "1. Perform one or two more quick iterations of the five previous steps.\n",
    "1. Shortlist the top three to five most promising models, preferring models that make different types of errors."
   ]
  },
  {
   "cell_type": "markdown",
   "metadata": {},
   "source": [
    "## Fine-Tune the System\n",
    "1. You will want to use as much data as possible for this step, especially as you move toward the end of fine-tuning.\n",
    "1. As always, automate what you can.\n",
    "1. Fine-tune the hyperparameters using cross-validation:\n",
    "    1. Treat your data transformation choices as hyperparameters, especially when you are not sure about them (e.g., if you’re not sure whether to replace missing values with zeros or with the median value, or to just drop the rows).\n",
    "    1. Unless there are very few hyperparameter values to explore, prefer random search over grid search. If training is very long, you may prefer a Bayesian optimization approach (e.g., using Gaussian process priors, as described by Jasper Snoek et al.).\n",
    "1. Try Ensemble methods. Combining your best models will often produce better performance than running them individually.\n",
    "1. Once you are confident about your final model, measure its performance on the test set to estimate the generalization error."
   ]
  },
  {
   "cell_type": "markdown",
   "metadata": {},
   "source": [
    "## Present Your Solution\n",
    "1. Document what you have done.\n",
    "1. Create a nice presentation.\n",
    "1. Make sure you highlight the big picture first.\n",
    "1. Explain why your solution achieves the business objective.\n",
    "1. Don’t forget to present interesting points you noticed along the way.\n",
    "1. Describe what worked and what did not.\n",
    "1. List your assumptions and your system’s limitations.\n",
    "1. Ensure your key findings are communicated through beautiful visualizations or easy-to-remember statements (e.g., “the median income is the number-one predictor of housing prices”)."
   ]
  },
  {
   "cell_type": "markdown",
   "metadata": {},
   "source": [
    "## Launch!\n",
    "1. Get your solution ready for production (plug into production data inputs, write unit tests, etc.).\n",
    "1. Write monitoring code to check your system’s live performance at regular intervals and trigger alerts when it drops.\n",
    "    1. Beware of slow degradation: models tend to “rot” as data evolves.\n",
    "    1. Measuring performance may require a human pipeline (e.g., via a crowdsourcing service).\n",
    "    1. Also monitor your inputs’ quality (e.g., a malfunctioning sensor sending random values, or another team’s output becoming stale). This is particularly important for online learning systems.\n",
    "1. Retrain your models on a regular basis on fresh data (automate as much as possible )."
   ]
  },
  {
   "cell_type": "code",
   "execution_count": null,
   "metadata": {},
   "outputs": [],
   "source": []
  }
 ],
 "metadata": {
  "kernelspec": {
   "display_name": "Python 3",
   "language": "python",
   "name": "python3"
  },
  "language_info": {
   "codemirror_mode": {
    "name": "ipython",
    "version": 3
   },
   "file_extension": ".py",
   "mimetype": "text/x-python",
   "name": "python",
   "nbconvert_exporter": "python",
   "pygments_lexer": "ipython3",
   "version": "3.7.4"
  }
 },
 "nbformat": 4,
 "nbformat_minor": 2
}
