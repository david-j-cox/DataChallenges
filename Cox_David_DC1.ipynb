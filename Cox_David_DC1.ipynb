{
 "cells": [
  {
   "cell_type": "markdown",
   "metadata": {},
   "source": [
    "## Frame the problem. \n",
    "1. Define the objective in business terms.\n",
    "1. How will your solution be used?\n",
    "1. What are the current solutions/workarounds (if any)?\n",
    "1. How should you frame this problem (supervised/unsupervised, online/offline, etc.)?\n",
    "1. How should performance be measured?\n",
    "1. Is the performance measure aligned with the business objective?\n",
    "1. What would be the minimum performance needed to reach the business objective?\n",
    "1. What are comparable problems? Can you reuse experience or tools?\n",
    "1. Is human expertise available?\n",
    "1. How would you solve the problem manually?\n",
    "1. List the assumptions you (or others) have made so far.\n",
    "1. Verify assumptions if possible."
   ]
  },
  {
   "cell_type": "markdown",
   "metadata": {},
   "source": [
    "### GOAL: The goal here is to evaluate whether a pricing test running on the site has been successful. As always, you should focus on user segmentation and provide insights about segments who behave differently as well as any other insights you might find.\n",
    "\n",
    "### AB testing; 1 group (66%) gets the old price and 33% gets the new price. \n",
    "\n",
    "### Questions to answer: \n",
    "1. Should the company sell its software for 39 instead of 59?\n",
    "1. The VP of Product is interested in having a holistic view into user behavior, especially focusing on actionable insights that might increase conversion rate. What are your main findings looking at the data?\n",
    "1. The VP of Product feels that the test has been running for too long and she should have been able to get statistically significant results in a shorter time. Do you agree with her intuition? After how many days would you have stopped the test? Please, explain why."
   ]
  },
  {
   "cell_type": "code",
   "execution_count": null,
   "metadata": {},
   "outputs": [],
   "source": [
    "!cd /Users/dcox/Dropbox/InsightFellowship/DataChallenges/Working_Challenges/"
   ]
  },
  {
   "cell_type": "code",
   "execution_count": 1,
   "metadata": {},
   "outputs": [],
   "source": [
    "import pandas as pd\n",
    "import pandas_profiling\n",
    "import seaborn as sns\n",
    "import matplotlib.pyplot as plt\n",
    "import numpy as np\n",
    "from datetime import datetime\n",
    "import time\n",
    "from socket import socket"
   ]
  },
  {
   "cell_type": "markdown",
   "metadata": {},
   "source": [
    "## Test Results Table: EDA & Cleaning"
   ]
  },
  {
   "cell_type": "code",
   "execution_count": 23,
   "metadata": {},
   "outputs": [
    {
     "name": "stdout",
     "output_type": "stream",
     "text": [
      "user_id               int64\n",
      "timestamp            object\n",
      "source               object\n",
      "device               object\n",
      "operative_system     object\n",
      "test                  int64\n",
      "price               float64\n",
      "converted             int64\n",
      "dtype: object\n"
     ]
    }
   ],
   "source": [
    "# Get a quick sense of what we're working with\n",
    "data_test = pd.read_csv('test_results.csv')\n",
    "test_results = data_test.copy()\n",
    "test_results = test_results.drop('Unnamed: 0', axis=1)\n",
    "tr_cols = list(test_results)\n",
    "print(test_results.dtypes)"
   ]
  },
  {
   "cell_type": "code",
   "execution_count": 24,
   "metadata": {},
   "outputs": [
    {
     "name": "stdout",
     "output_type": "stream",
     "text": [
      "Missing: 0 \n",
      " 2047      1\n",
      "338394    1\n",
      "465846    1\n",
      "407572    1\n",
      "753429    1\n",
      "         ..\n",
      "291876    1\n",
      "293925    1\n",
      "857669    1\n",
      "814119    1\n",
      "2049      1\n",
      "Name: user_id, Length: 316800, dtype: int64 \n",
      "\n",
      "Missing: 334 \n",
      " 2015-04-12 11:51:16    12\n",
      "2015-05-25 07:27:08    11\n",
      "2015-04-10 08:29:07    11\n",
      "2015-04-04 17:38:26    11\n",
      "2015-05-15 08:47:44    10\n",
      "                       ..\n",
      "2015-05-29 16:53:23     1\n",
      "2015-04-08 16:08:41     1\n",
      "2015-03-25 13:54:45     1\n",
      "2015-03-07 11:43:42     1\n",
      "2015-04-12 18:50:29     1\n",
      "Name: timestamp, Length: 141147, dtype: int64 \n",
      "\n",
      "Missing: 312 \n",
      " direct_traffic     60307\n",
      "ads-google         59319\n",
      "ads_facebook       53337\n",
      "ads_other          29849\n",
      "seo-google         23160\n",
      "ads-bing           22851\n",
      "seo_facebook       21185\n",
      "friend_referral    20672\n",
      "seo-other           9250\n",
      "ads-yahoo           7573\n",
      "seo-yahoo           6836\n",
      "seo-bing            2149\n",
      "Name: source, dtype: int64 \n",
      "\n",
      "Missing: 0 \n",
      " mobile    186471\n",
      "web       130329\n",
      "Name: device, dtype: int64 \n",
      "\n",
      "Missing: 20339 \n",
      " windows    100878\n",
      "iOS         95352\n",
      "android     74856\n",
      "mac         25056\n",
      "i0S           113\n",
      "wnddows        98\n",
      "anroid         79\n",
      "apple          29\n",
      "Name: operative_system, dtype: int64 \n",
      "\n",
      "Missing: 0 \n",
      " 0    202727\n",
      "1    114073\n",
      "Name: test, dtype: int64 \n",
      "\n",
      "Missing: 0 \n",
      " 39.0           200747\n",
      "59.0           112979\n",
      "536537851.0         1\n",
      "722005503.0         1\n",
      "362003840.0         1\n",
      "                ...  \n",
      "874195411.0         1\n",
      "873981330.0         1\n",
      "436979943.0         1\n",
      "873865897.0         1\n",
      "537168484.0         1\n",
      "Name: price, Length: 3076, dtype: int64 \n",
      "\n",
      "Missing: 0 \n",
      " 0    310992\n",
      "1      5808\n",
      "Name: converted, dtype: int64 \n",
      "\n"
     ]
    }
   ],
   "source": [
    "for i in tr_cols:\n",
    "    print(\"Missing:\", test_results[i].isna().sum(), \"\\n\", test_results[i].value_counts(), \"\\n\")"
   ]
  },
  {
   "cell_type": "code",
   "execution_count": null,
   "metadata": {},
   "outputs": [],
   "source": [
    "## test_results.profile_report(correlations={\"cramers\": {\"calculate\": False}})"
   ]
  },
  {
   "cell_type": "markdown",
   "metadata": {},
   "source": [
    "### Takeaways from the test_results table:\n",
    "- \"Converted\" imbalanced\n",
    "- \"operative_system\": recode ms values (n~20,000; recode), ios & windows coded two diff ways, other val pretty low\n",
    "- \"price\" has outliers\n",
    "- \"timestamp\" has missing vals (n~300; drop)\n",
    "- 'source' has missing vals (n~300; drop)"
   ]
  },
  {
   "cell_type": "code",
   "execution_count": 25,
   "metadata": {},
   "outputs": [
    {
     "data": {
      "text/plain": [
       "windows    100976\n",
       "iOS         95465\n",
       "android     74935\n",
       "mac         25056\n",
       "unknown     20368\n",
       "Name: operative_system, dtype: int64"
      ]
     },
     "execution_count": 25,
     "metadata": {},
     "output_type": "execute_result"
    }
   ],
   "source": [
    "# Recode 'operative _system' issues noted above\n",
    "test_results['operative_system'] = test_results['operative_system'].fillna('unknown') # chose to recode b/c of large n and possible other users will be unknown\n",
    "test_results['operative_system'] = test_results['operative_system'].replace('wnddows', 'windows')\n",
    "test_results['operative_system'] = test_results['operative_system'].replace('i0S', 'iOS')\n",
    "test_results['operative_system'] = test_results['operative_system'].replace('anroid', 'android')\n",
    "test_results['operative_system'] = test_results['operative_system'].replace('apple', 'unknown')\n",
    "test_results['operative_system'].value_counts()"
   ]
  },
  {
   "cell_type": "code",
   "execution_count": 26,
   "metadata": {},
   "outputs": [
    {
     "data": {
      "text/plain": [
       "39.0    200747\n",
       "59.0    112979\n",
       "Name: price, dtype: int64"
      ]
     },
     "execution_count": 26,
     "metadata": {},
     "output_type": "execute_result"
    }
   ],
   "source": [
    "# Remove outliers based on 'price' column\n",
    "test_results = test_results[test_results['price'] < 60]\n",
    "test_results['price'].value_counts()"
   ]
  },
  {
   "cell_type": "code",
   "execution_count": 27,
   "metadata": {},
   "outputs": [
    {
     "name": "stdout",
     "output_type": "stream",
     "text": [
      "Missing: 0 \n",
      " 2015-04-12 11:51:16    12\n",
      "2015-04-04 17:38:26    11\n",
      "2015-05-25 07:27:08    11\n",
      "2015-04-10 08:29:07    11\n",
      "2015-05-14 16:41:42    10\n",
      "                       ..\n",
      "2015-04-12 17:51:60     1\n",
      "2015-05-23 00:39:34     1\n",
      "2015-05-15 07:23:13     1\n",
      "2015-04-13 00:19:11     1\n",
      "2015-04-12 18:50:29     1\n",
      "Name: timestamp, Length: 140634, dtype: int64 \n",
      "\n",
      "Missing: 0 \n",
      " direct_traffic     59666\n",
      "ads-google         58686\n",
      "ads_facebook       52738\n",
      "ads_other          29533\n",
      "seo-google         22911\n",
      "ads-bing           22592\n",
      "seo_facebook       20953\n",
      "friend_referral    20458\n",
      "seo-other           9142\n",
      "ads-yahoo           7499\n",
      "seo-yahoo           6781\n",
      "seo-bing            2128\n",
      "Name: source, dtype: int64 \n",
      "\n"
     ]
    }
   ],
   "source": [
    "# Remove rows with missing vals from timestamp and source\n",
    "test_results = test_results.dropna()\n",
    "cols = ['timestamp', 'source']\n",
    "for i in cols:\n",
    "    print(\"Missing:\", test_results[i].isna().sum(), \"\\n\", test_results[i].value_counts(), \"\\n\")"
   ]
  },
  {
   "cell_type": "code",
   "execution_count": 56,
   "metadata": {},
   "outputs": [
    {
     "data": {
      "text/plain": [
       "313087"
      ]
     },
     "execution_count": 56,
     "metadata": {},
     "output_type": "execute_result"
    }
   ],
   "source": [
    "len(test_results)"
   ]
  },
  {
   "cell_type": "markdown",
   "metadata": {},
   "source": [
    "## User Table Data: EDA & Cleaning"
   ]
  },
  {
   "cell_type": "code",
   "execution_count": 32,
   "metadata": {},
   "outputs": [
    {
     "name": "stdout",
     "output_type": "stream",
     "text": [
      "user_id      int64\n",
      "city        object\n",
      "country     object\n",
      "lat        float64\n",
      "long       float64\n",
      "dtype: object\n"
     ]
    }
   ],
   "source": [
    "# Get a quick sense of what we're working with\n",
    "data_user = pd.read_csv('user_table.csv')\n",
    "user_table = data_user.copy()\n",
    "usr_cols = list(user_table)\n",
    "print(user_table.dtypes)"
   ]
  },
  {
   "cell_type": "code",
   "execution_count": 36,
   "metadata": {},
   "outputs": [
    {
     "name": "stdout",
     "output_type": "stream",
     "text": [
      "Missing: 0 \n",
      " 2047      1\n",
      "658708    1\n",
      "783659    1\n",
      "779561    1\n",
      "257320    1\n",
      "         ..\n",
      "639403    1\n",
      "609923    1\n",
      "83586     1\n",
      "87680     1\n",
      "2049      1\n",
      "Name: user_id, Length: 275616, dtype: int64 \n",
      "\n",
      "Missing: 0 \n",
      " New York       25748\n",
      "Chicago         7153\n",
      "Houston         6706\n",
      "San Antonio     4633\n",
      "Los Angeles     4141\n",
      "               ...  \n",
      "Cerritos           1\n",
      "New Milford        1\n",
      "East Lake          1\n",
      "Ocala              1\n",
      "Costa Mesa         1\n",
      "Name: city, Length: 923, dtype: int64 \n",
      "\n",
      "Missing: 0 \n",
      " USA    275616\n",
      "Name: country, dtype: int64 \n",
      "\n",
      "Missing: 0 \n",
      " 40.67    25901\n",
      "41.84     7478\n",
      "29.77     6706\n",
      "29.46     4633\n",
      "34.11     4475\n",
      "         ...  \n",
      "36.53        3\n",
      "39.30        3\n",
      "35.12        3\n",
      "26.45        3\n",
      "27.98        1\n",
      "Name: lat, Length: 713, dtype: int64 \n",
      "\n",
      "Missing: 0 \n",
      " -73.94     25748\n",
      "-87.68      7153\n",
      "-95.39      6706\n",
      "-98.51      4633\n",
      "-118.41     4141\n",
      "           ...  \n",
      "-82.38         1\n",
      "-73.41         1\n",
      "-118.07        1\n",
      "-73.51         1\n",
      "-82.13         1\n",
      "Name: long, Length: 830, dtype: int64 \n",
      "\n"
     ]
    }
   ],
   "source": [
    "for i in usr_cols:\n",
    "    print(\"Missing:\", user_table[i].isna().sum(), \"\\n\", user_table[i].value_counts(), \"\\n\")"
   ]
  },
  {
   "cell_type": "code",
   "execution_count": 82,
   "metadata": {},
   "outputs": [
    {
     "data": {
      "text/plain": [
       "(array([  892.,     0., 26450., 50549., 40770., 62020., 94598.,     0.,\n",
       "            0.,     0.,     0.,     0.,     0.,     0.,   337.]),\n",
       " array([-157.8       , -145.25933333, -132.71866667, -120.178     ,\n",
       "        -107.63733333,  -95.09666667,  -82.556     ,  -70.01533333,\n",
       "         -57.47466667,  -44.934     ,  -32.39333333,  -19.85266667,\n",
       "          -7.312     ,    5.22866667,   17.76933333,   30.31      ]),\n",
       " <a list of 15 Patch objects>)"
      ]
     },
     "execution_count": 82,
     "metadata": {},
     "output_type": "execute_result"
    },
    {
     "data": {
      "image/png": "[encoded data removed]",
      "text/plain": [
       "<Figure size 432x288 with 2 Axes>"
      ]
     },
     "metadata": {
      "needs_background": "light"
     },
     "output_type": "display_data"
    }
   ],
   "source": [
    "fig, axs = plt.subplots(1, 2, sharey=True, tight_layout=True)\n",
    "axs[0].hist(user_table['lat'], bins=15, color='black')\n",
    "axs[1].hist(user_table['long'], bins=15, color='black')"
   ]
  },
  {
   "cell_type": "code",
   "execution_count": 72,
   "metadata": {},
   "outputs": [
    {
     "data": {
      "image/png": "[encoded data removed]",
      "text/plain": [
       "<Figure size 720x720 with 1 Axes>"
      ]
     },
     "metadata": {
      "needs_background": "light"
     },
     "output_type": "display_data"
    }
   ],
   "source": [
    "city_count = user_table['city'].value_counts()\n",
    "city_count = city_count[:50,]\n",
    "plt.figure(figsize=(10,10))\n",
    "sns.barplot(city_count.values, city_count.index, color='black')\n",
    "plt.ylabel('City', fontsize=20)\n",
    "plt.xlabel('Number of Occurrences', fontsize=20)\n",
    "plt.show()"
   ]
  },
  {
   "cell_type": "code",
   "execution_count": null,
   "metadata": {},
   "outputs": [],
   "source": [
    "user_table.profile_report(correlations={\"cramers\": {\"calculate\": False}})"
   ]
  },
  {
   "cell_type": "code",
   "execution_count": 91,
   "metadata": {},
   "outputs": [
    {
     "name": "stdout",
     "output_type": "stream",
     "text": [
      "Num Unique user_id : 275616 \n",
      "\n",
      "\n",
      "Num Unique city : 923 \n",
      "\n",
      "\n",
      "Num Unique country : 1 \n",
      "\n",
      "\n",
      "Num Unique lat : 713 \n",
      "\n",
      "\n",
      "Num Unique long : 830 \n",
      "\n",
      "\n"
     ]
    }
   ],
   "source": [
    "cols = list(user_table)\n",
    "for i in user_table:\n",
    "    print(\"Num Unique\", i, \":\", len((user_table[i].unique())), \"\\n\\n\")"
   ]
  },
  {
   "cell_type": "markdown",
   "metadata": {},
   "source": [
    "### Takeaways from the user_table:\n",
    "- Imbalanced classes for city - recode into regions of country?\n",
    "- Only one country - drop"
   ]
  },
  {
   "cell_type": "code",
   "execution_count": 94,
   "metadata": {},
   "outputs": [
    {
     "name": "stdout",
     "output_type": "stream",
     "text": [
      "['user_id', 'city', 'lat', 'long']\n"
     ]
    }
   ],
   "source": [
    "# Drop country form user_table\n",
    "user_table = user_table.drop(['country'], axis=1)\n",
    "print(list(user_table))"
   ]
  },
  {
   "cell_type": "markdown",
   "metadata": {},
   "source": [
    "## Merge the two tables into one"
   ]
  },
  {
   "cell_type": "code",
   "execution_count": 104,
   "metadata": {},
   "outputs": [],
   "source": [
    "merged_data = pd.merge(test_results, user_table, on=\"user_id\", how='inner') # chose to keep only vals common to both"
   ]
  },
  {
   "cell_type": "markdown",
   "metadata": {},
   "source": [
    "## Recode strings as numbers for ML algorithms"
   ]
  },
  {
   "cell_type": "code",
   "execution_count": null,
   "metadata": {},
   "outputs": [],
   "source": [
    "mostObs_predCols = list(mostObs_pred)\n",
    "mostObs_predCodes = []\n",
    "for i in mostObs_predCols:\n",
    "    mostObs_pred[i] = mostObs_pred[i].astype('category')\n",
    "    d = dict(enumerate(mostObs_pred[i].cat.categories))\n",
    "    mostObs_predCodes.append(d)\n",
    "    mostObs_pred[i] = mostObs_pred[i].astype('category')\n",
    "    mostObs_pred[i] = mostObs_pred[i].cat.codes"
   ]
  },
  {
   "cell_type": "code",
   "execution_count": null,
   "metadata": {},
   "outputs": [],
   "source": []
  },
  {
   "cell_type": "markdown",
   "metadata": {},
   "source": [
    "## Explore the Data\n",
    "1. Create a copy of the data for exploration (sampling it down to a manageable size if necessary).\n",
    "1. Create a Jupyter notebook to keep a record of your data exploration.\n",
    "1. Study each attribute and its characteristics:\n",
    "    1. Name\n",
    "    1. Type (categorical, int/float, bounded/unbounded, text, structured, etc.)\n",
    "    1. % of missing values\n",
    "    1. Noisiness and type of noise (stochastic, outliers, rounding errors, etc.)\n",
    "    1. Usefulness for the task\n",
    "    1. Type of distribution (Gaussian, uniform, logarithmic, etc.)\n",
    "1. For supervised learning tasks, identify the target attribute(s).\n",
    "1. Visualize the data.\n",
    "1. Study the correlations between attributes.\n",
    "1. Study how you would solve the problem manually.\n",
    "1. Identify the promising transformations you may want to apply.\n",
    "1. Identify extra data that would be useful (go back to “Get the Data” ).\n",
    "1. Document what you have learned."
   ]
  },
  {
   "cell_type": "markdown",
   "metadata": {},
   "source": [
    "## Prepare the Data\n",
    "1. Work on copies of the data (keep the original dataset intact).\n",
    "1. Write functions for all data transformations you apply, for five reasons:\n",
    "1. So you can easily prepare the data the next time you get a fresh dataset\n",
    "1. So you can apply these transformations in future projects\n",
    "1. To clean and prepare the test set\n",
    "1. To clean and prepare new data instances once your solution is live\n",
    "1. To make it easy to treat your preparation choices as hyperparameters\n",
    "1. Data cleaning:\n",
    "    1. Fix or remove outliers (optional).\n",
    "    1. Fill in missing values (e.g., with zero, mean, median…) or drop their rows (or columns).\n",
    "1. Feature selection (optional):\n",
    "    1. Drop the attributes that provide no useful information for the task.\n",
    "1. Feature engineering, where appropriate:\n",
    "    1. Discretize continuous features.\n",
    "    1. Decompose features (e.g., categorical, date/time, etc.).\n",
    "    1. Add promising transformations of features (e.g., log( x ), sqrt( x ), x 2 , etc.).\n",
    "    1. Aggregate features into promising new features.\n",
    "1. Feature scaling:\n",
    "    1. Standardize or normalize features."
   ]
  },
  {
   "cell_type": "markdown",
   "metadata": {},
   "source": [
    "## Shortlist Promising Models\n",
    "1. If the data is huge, you may want to sample smaller training sets so you can train many different models in a reasonable time (be aware that this penalizes complex models such as large neural nets or Random Forests).\n",
    "1. Once again, try to automate these steps as much as possible.\n",
    "1. Train many quick-and-dirty models from different categories (e.g., linear, naive Bayes, SVM, Random Forest, neural net, etc.) using standard parameters.\n",
    "1. Measure and compare their performance.\n",
    "    1. For each model, use N fold cross-validation and compute the mean and standard deviation of the performance measure on the N folds.\n",
    "1. Analyze the most significant variables for each algorithm.\n",
    "1. Analyze the types of errors the models make.\n",
    "    1. What data would a human have used to avoid these errors?\n",
    "1. Perform a quick round of feature selection and engineering.\n",
    "1. Perform one or two more quick iterations of the five previous steps.\n",
    "1. Shortlist the top three to five most promising models, preferring models that make different types of errors."
   ]
  },
  {
   "cell_type": "markdown",
   "metadata": {},
   "source": [
    "## Fine-Tune the System\n",
    "1. You will want to use as much data as possible for this step, especially as you move toward the end of fine-tuning.\n",
    "1. As always, automate what you can.\n",
    "1. Fine-tune the hyperparameters using cross-validation:\n",
    "    1. Treat your data transformation choices as hyperparameters, especially when you are not sure about them (e.g., if you’re not sure whether to replace missing values with zeros or with the median value, or to just drop the rows).\n",
    "    1. Unless there are very few hyperparameter values to explore, prefer random search over grid search. If training is very long, you may prefer a Bayesian optimization approach (e.g., using Gaussian process priors, as described by Jasper Snoek et al.).\n",
    "1. Try Ensemble methods. Combining your best models will often produce better performance than running them individually.\n",
    "1. Once you are confident about your final model, measure its performance on the test set to estimate the generalization error."
   ]
  },
  {
   "cell_type": "markdown",
   "metadata": {},
   "source": [
    "## Present Your Solution\n",
    "1. Document what you have done.\n",
    "1. Create a nice presentation.\n",
    "1. Make sure you highlight the big picture first.\n",
    "1. Explain why your solution achieves the business objective.\n",
    "1. Don’t forget to present interesting points you noticed along the way.\n",
    "1. Describe what worked and what did not.\n",
    "1. List your assumptions and your system’s limitations.\n",
    "1. Ensure your key findings are communicated through beautiful visualizations or easy-to-remember statements (e.g., “the median income is the number-one predictor of housing prices”)."
   ]
  },
  {
   "cell_type": "code",
   "execution_count": null,
   "metadata": {},
   "outputs": [],
   "source": []
  }
 ],
 "metadata": {
  "kernelspec": {
   "display_name": "Python 3",
   "language": "python",
   "name": "python3"
  },
  "language_info": {
   "codemirror_mode": {
    "name": "ipython",
    "version": 3
   },
   "file_extension": ".py",
   "mimetype": "text/x-python",
   "name": "python",
   "nbconvert_exporter": "python",
   "pygments_lexer": "ipython3",
   "version": "3.7.4"
  }
 },
 "nbformat": 4,
 "nbformat_minor": 2
}
