{
 "cells": [
  {
   "cell_type": "markdown",
   "metadata": {},
   "source": [
    "## Breast Cancer Cell Detection\n",
    "\n",
    "You work for the data team at a local research hospital. You've been tasked with developing a means to help doctors diagnose breast cancer. You've been given data about biopsied breast cells; where it is benign (not harmful) or malignant (cancerous).\n",
    "\n",
    "* What features of a cell are the largest drivers of malignancy? Build a model that predicts whether a given biopsied breast cell is benign or malignant.\n",
    "* What features drive your false positive rate for your model you derived above, what features drive your false negative rate?\n",
    "* How would a physician use your product?\n",
    "* There is a non-zero cost in time and money to collect each feature about a given cell. How would you go about determining the most cost-effective method of detecting malignancy?\n",
    "\n",
    "We are looking for a coherent data-story - think of this challenge as building the MVP of a data product. That means you should be able to explain the “why” behind the technical choices you made and show that you made those choices with your user needs in mind. This is a deliberately open-ended question that provides a chance to showcase your EDA, analysis, and presentation skills.\n",
    "\n",
    "### Deliverables:\n",
    "* Your final software deliverable should be a REST API (locally-hosted - in future weeks you will containerize and deploy to AWS) that you will be expected to demo\n",
    "  * [REST API + React Front End tutorial](https://towardsdatascience.com/create-a-complete-machine-learning-web-application-using-react-and-flask-859340bddb33)\n",
    "  * [Build an API using Flask](https://github.com/TannerGilbert/Tutorials/tree/master/Deploying%20your%20ML%20Model)\n",
    "  * [Tutorial: Building a RESTful API with Flask](https://kite.com/blog/python/flask-restful-api-tutorial/)\n",
    "  * [How to Build RESTful APIs with Python and Flask](https://www.codementor.io/dongido/how-to-build-restful-apis-with-python-and-flask-fh5x7zjrx)\n",
    "  * [Deploying an ML Model as REST API](https://towardsdatascience.com/deploying-a-machine-learning-model-as-a-rest-api-4a03b865c166)\n",
    "  * Try and limit yourself to 4 hours for the analysis\n",
    "    * After the 4 hour analysis is done leave yourself enough time to put together a presentation + API\n",
    "\n",
    "### Data\n",
    "\n",
    "The dataset consists of 699 cells for which you have the following features:\n",
    "\n",
    "Sample code number: id number\n",
    "Clump Thickness: 1 - 10\n",
    "Uniformity of Cell Size: 1 - 10\n",
    "Uniformity of Cell Shape: 1 - 10\n",
    "Marginal Adhesion: 1 - 10\n",
    "Single Epithelial Cell Size: 1 - 10\n",
    "Bare Nuclei: 1 - 10\n",
    "Bland Chromatin: 1 - 10\n",
    "Normal Nucleoli: 1 - 10\n",
    "Mitoses: 1 - 10\n",
    "Class: (2 for benign, 4 for malignant)\n",
    "\n",
    "The dataset is also available here: https://archive.ics.uci.edu/ml/machine-learning-databases/breast-cancer-wisconsin/breast-cancer-wisconsin.data\n"
   ]
  },
  {
   "cell_type": "code",
   "execution_count": 2,
   "metadata": {},
   "outputs": [],
   "source": [
    "import pandas as pd\n",
    "import numpy as np\n",
    "import matplotlib.pyplot as plt\n",
    "import seaborn as sns"
   ]
  },
  {
   "cell_type": "code",
   "execution_count": 6,
   "metadata": {},
   "outputs": [
    {
     "data": {
      "text/html": [
       "<div>\n",
       "<style scoped>\n",
       "    .dataframe tbody tr th:only-of-type {\n",
       "        vertical-align: middle;\n",
       "    }\n",
       "\n",
       "    .dataframe tbody tr th {\n",
       "        vertical-align: top;\n",
       "    }\n",
       "\n",
       "    .dataframe thead th {\n",
       "        text-align: right;\n",
       "    }\n",
       "</style>\n",
       "<table border=\"1\" class=\"dataframe\">\n",
       "  <thead>\n",
       "    <tr style=\"text-align: right;\">\n",
       "      <th></th>\n",
       "      <th>sample</th>\n",
       "      <th>clump_thickness</th>\n",
       "      <th>unif_cell_size</th>\n",
       "      <th>unif_cell_shape</th>\n",
       "      <th>marginal_adhesion</th>\n",
       "      <th>single_epi_size</th>\n",
       "      <th>bare_nuclei</th>\n",
       "      <th>chromatin</th>\n",
       "      <th>nucleoli</th>\n",
       "      <th>mitoses</th>\n",
       "      <th>cancer_class</th>\n",
       "    </tr>\n",
       "  </thead>\n",
       "  <tbody>\n",
       "    <tr>\n",
       "      <th>0</th>\n",
       "      <td>1000025</td>\n",
       "      <td>5</td>\n",
       "      <td>1</td>\n",
       "      <td>1</td>\n",
       "      <td>1</td>\n",
       "      <td>2</td>\n",
       "      <td>1</td>\n",
       "      <td>3</td>\n",
       "      <td>1</td>\n",
       "      <td>1</td>\n",
       "      <td>2</td>\n",
       "    </tr>\n",
       "    <tr>\n",
       "      <th>1</th>\n",
       "      <td>1002945</td>\n",
       "      <td>5</td>\n",
       "      <td>4</td>\n",
       "      <td>4</td>\n",
       "      <td>5</td>\n",
       "      <td>7</td>\n",
       "      <td>10</td>\n",
       "      <td>3</td>\n",
       "      <td>2</td>\n",
       "      <td>1</td>\n",
       "      <td>2</td>\n",
       "    </tr>\n",
       "    <tr>\n",
       "      <th>2</th>\n",
       "      <td>1015425</td>\n",
       "      <td>3</td>\n",
       "      <td>1</td>\n",
       "      <td>1</td>\n",
       "      <td>1</td>\n",
       "      <td>2</td>\n",
       "      <td>2</td>\n",
       "      <td>3</td>\n",
       "      <td>1</td>\n",
       "      <td>1</td>\n",
       "      <td>2</td>\n",
       "    </tr>\n",
       "    <tr>\n",
       "      <th>3</th>\n",
       "      <td>1016277</td>\n",
       "      <td>6</td>\n",
       "      <td>8</td>\n",
       "      <td>8</td>\n",
       "      <td>1</td>\n",
       "      <td>3</td>\n",
       "      <td>4</td>\n",
       "      <td>3</td>\n",
       "      <td>7</td>\n",
       "      <td>1</td>\n",
       "      <td>2</td>\n",
       "    </tr>\n",
       "    <tr>\n",
       "      <th>4</th>\n",
       "      <td>1017023</td>\n",
       "      <td>4</td>\n",
       "      <td>1</td>\n",
       "      <td>1</td>\n",
       "      <td>3</td>\n",
       "      <td>2</td>\n",
       "      <td>1</td>\n",
       "      <td>3</td>\n",
       "      <td>1</td>\n",
       "      <td>1</td>\n",
       "      <td>2</td>\n",
       "    </tr>\n",
       "  </tbody>\n",
       "</table>\n",
       "</div>"
      ],
      "text/plain": [
       "    sample  clump_thickness  unif_cell_size  unif_cell_shape  \\\n",
       "0  1000025                5               1                1   \n",
       "1  1002945                5               4                4   \n",
       "2  1015425                3               1                1   \n",
       "3  1016277                6               8                8   \n",
       "4  1017023                4               1                1   \n",
       "\n",
       "   marginal_adhesion  single_epi_size bare_nuclei  chromatin  nucleoli  \\\n",
       "0                  1                2           1          3         1   \n",
       "1                  5                7          10          3         2   \n",
       "2                  1                2           2          3         1   \n",
       "3                  1                3           4          3         7   \n",
       "4                  3                2           1          3         1   \n",
       "\n",
       "   mitoses  cancer_class  \n",
       "0        1             2  \n",
       "1        1             2  \n",
       "2        1             2  \n",
       "3        1             2  \n",
       "4        1             2  "
      ]
     },
     "execution_count": 6,
     "metadata": {},
     "output_type": "execute_result"
    }
   ],
   "source": [
    "headers = ['sample', 'clump_thickness', 'unif_cell_size', 'unif_cell_shape', 'marginal_adhesion', 'single_epi_size', \\\n",
    "          'bare_nuclei', 'chromatin', 'nucleoli', 'mitoses', 'cancer_class']\n",
    "raw_data = pd.read_csv('breast-cancer-wisconsin.csv', header=None, names=headers)\n",
    "data = raw_data.copy()\n",
    "data.head()"
   ]
  },
  {
   "cell_type": "code",
   "execution_count": 7,
   "metadata": {},
   "outputs": [
    {
     "name": "stdout",
     "output_type": "stream",
     "text": [
      "sample \n",
      " 1182404    6\n",
      "1276091    5\n",
      "1198641    3\n",
      "466906     2\n",
      "1116116    2\n",
      "          ..\n",
      "1207986    1\n",
      "1302428    1\n",
      "857774     1\n",
      "1181356    1\n",
      "625201     1\n",
      "Name: sample, Length: 645, dtype: int64 \n",
      "\n",
      "clump_thickness \n",
      " 1     145\n",
      "5     130\n",
      "3     108\n",
      "4      80\n",
      "10     69\n",
      "2      50\n",
      "8      46\n",
      "6      34\n",
      "7      23\n",
      "9      14\n",
      "Name: clump_thickness, dtype: int64 \n",
      "\n",
      "unif_cell_size \n",
      " 1     384\n",
      "10     67\n",
      "3      52\n",
      "2      45\n",
      "4      40\n",
      "5      30\n",
      "8      29\n",
      "6      27\n",
      "7      19\n",
      "9       6\n",
      "Name: unif_cell_size, dtype: int64 \n",
      "\n",
      "unif_cell_shape \n",
      " 1     353\n",
      "2      59\n",
      "10     58\n",
      "3      56\n",
      "4      44\n",
      "5      34\n",
      "7      30\n",
      "6      30\n",
      "8      28\n",
      "9       7\n",
      "Name: unif_cell_shape, dtype: int64 \n",
      "\n",
      "marginal_adhesion \n",
      " 1     407\n",
      "3      58\n",
      "2      58\n",
      "10     55\n",
      "4      33\n",
      "8      25\n",
      "5      23\n",
      "6      22\n",
      "7      13\n",
      "9       5\n",
      "Name: marginal_adhesion, dtype: int64 \n",
      "\n",
      "single_epi_size \n",
      " 2     386\n",
      "3      72\n",
      "4      48\n",
      "1      47\n",
      "6      41\n",
      "5      39\n",
      "10     31\n",
      "8      21\n",
      "7      12\n",
      "9       2\n",
      "Name: single_epi_size, dtype: int64 \n",
      "\n",
      "bare_nuclei \n",
      " 1     402\n",
      "10    132\n",
      "5      30\n",
      "2      30\n",
      "3      28\n",
      "8      21\n",
      "4      19\n",
      "?      16\n",
      "9       9\n",
      "7       8\n",
      "6       4\n",
      "Name: bare_nuclei, dtype: int64 \n",
      "\n",
      "chromatin \n",
      " 2     166\n",
      "3     165\n",
      "1     152\n",
      "7      73\n",
      "4      40\n",
      "5      34\n",
      "8      28\n",
      "10     20\n",
      "9      11\n",
      "6      10\n",
      "Name: chromatin, dtype: int64 \n",
      "\n",
      "nucleoli \n",
      " 1     443\n",
      "10     61\n",
      "3      44\n",
      "2      36\n",
      "8      24\n",
      "6      22\n",
      "5      19\n",
      "4      18\n",
      "9      16\n",
      "7      16\n",
      "Name: nucleoli, dtype: int64 \n",
      "\n",
      "mitoses \n",
      " 1     579\n",
      "2      35\n",
      "3      33\n",
      "10     14\n",
      "4      12\n",
      "7       9\n",
      "8       8\n",
      "5       6\n",
      "6       3\n",
      "Name: mitoses, dtype: int64 \n",
      "\n",
      "cancer_class \n",
      " 2    458\n",
      "4    241\n",
      "Name: cancer_class, dtype: int64 \n",
      "\n"
     ]
    }
   ],
   "source": [
    "# Check the different types of values we have for each column\n",
    "for i in headers:\n",
    "    print(i, \"\\n\", data[i].value_counts(), \"\\n\")"
   ]
  },
  {
   "cell_type": "code",
   "execution_count": 8,
   "metadata": {},
   "outputs": [
    {
     "name": "stdout",
     "output_type": "stream",
     "text": [
      "699\n",
      "683\n"
     ]
    }
   ],
   "source": [
    "# Everything looks good except for the bare_nuclei column. Remove those with '?' vals. \n",
    "print(len(data))\n",
    "data = data[data.bare_nuclei != \"?\"]\n",
    "print(len(data))"
   ]
  },
  {
   "cell_type": "code",
   "execution_count": 18,
   "metadata": {},
   "outputs": [
    {
     "data": {
      "text/plain": [
       "array([[<matplotlib.axes._subplots.AxesSubplot object at 0x12918ca90>,\n",
       "        <matplotlib.axes._subplots.AxesSubplot object at 0x12adab350>,\n",
       "        <matplotlib.axes._subplots.AxesSubplot object at 0x12ae89e10>],\n",
       "       [<matplotlib.axes._subplots.AxesSubplot object at 0x12ae9dad0>,\n",
       "        <matplotlib.axes._subplots.AxesSubplot object at 0x12aecce50>,\n",
       "        <matplotlib.axes._subplots.AxesSubplot object at 0x12af02b10>],\n",
       "       [<matplotlib.axes._subplots.AxesSubplot object at 0x12af35790>,\n",
       "        <matplotlib.axes._subplots.AxesSubplot object at 0x12af66f90>,\n",
       "        <matplotlib.axes._subplots.AxesSubplot object at 0x12af6fb10>],\n",
       "       [<matplotlib.axes._subplots.AxesSubplot object at 0x12afac4d0>,\n",
       "        <matplotlib.axes._subplots.AxesSubplot object at 0x12b012810>,\n",
       "        <matplotlib.axes._subplots.AxesSubplot object at 0x12b042f90>]],\n",
       "      dtype=object)"
      ]
     },
     "execution_count": 18,
     "metadata": {},
     "output_type": "execute_result"
    },
    {
     "data": {
      "image/png": "[encoded data removed]",
      "text/plain": [
       "<Figure size 1440x1080 with 12 Axes>"
      ]
     },
     "metadata": {
      "needs_background": "light"
     },
     "output_type": "display_data"
    }
   ],
   "source": [
    "# Take a look at the relationship between these variables. \n",
    "data[headers].hist(bins=10, figsize=(20,15))"
   ]
  },
  {
   "cell_type": "markdown",
   "metadata": {},
   "source": [
    "# Classifiers"
   ]
  },
  {
   "cell_type": "code",
   "execution_count": 33,
   "metadata": {},
   "outputs": [],
   "source": [
    "# Split data into features and outcome variables\n",
    "outcome = data.cancer_class\n",
    "# Recode benign as 0 and malignant as 1\n",
    "outcome.replace({2:0, 4:1}, inplace=True)\n",
    "features = data.drop(['cancer_class', 'sample'], axis=1)"
   ]
  },
  {
   "cell_type": "code",
   "execution_count": null,
   "metadata": {},
   "outputs": [],
   "source": [
    "# Quick feature engineering. \n",
    "features['ovr_unif'] = data['unif_cell_size'] * data['unif_cell_shape']"
   ]
  },
  {
   "cell_type": "code",
   "execution_count": 65,
   "metadata": {},
   "outputs": [],
   "source": [
    "# Some packages\n",
    "import matplotlib\n",
    "from sklearn import metrics\n",
    "from sklearn.metrics import accuracy_score, f1_score, precision_score, recall_score, roc_auc_score, confusion_matrix\n",
    "from sklearn.model_selection import train_test_split\n",
    "\n",
    "# Some functions\n",
    "def bin_metrics(x, y):\n",
    "    '''Prints four common metrics for evaluating classification predictions.'''\n",
    "    print('Accuracy:', round(metrics.accuracy_score(x, y), 4))\n",
    "    print('Precision:', round(metrics.precision_score(x, y), 4))\n",
    "    print('Recall:', round(metrics.recall_score(x, y), 4))\n",
    "    print('ROC_AUC:,', round(metrics.roc_auc_score(x, y), 4))\n",
    "    print('F1:', round(metrics.f1_score(x, y), 4))\n",
    "\n",
    "def plot_cm(x, y):\n",
    "    cm = confusion_matrix(x, y)\n",
    "    df_cm = pd.DataFrame(cm, columns=np.unique(x), index = np.unique(x))\n",
    "    df_cm.index.name = 'Actual'\n",
    "    df_cm.columns.name = 'Predicted'\n",
    "    sns.heatmap(df_cm, cmap=\"Blues\", annot=True,annot_kws={\"size\": 20}, fmt='g')# font size\n",
    "    plt.ylim([0, 2])"
   ]
  },
  {
   "cell_type": "markdown",
   "metadata": {},
   "source": [
    "## Logistic Classifier\n",
    "- Advantages: less prone to over-fitting (except with high-dimensional data); gives size and direction of predictors; easy to implement, interpret, and train.\n",
    "- Disadvantages: assumption of linearity between variables"
   ]
  },
  {
   "cell_type": "code",
   "execution_count": 67,
   "metadata": {},
   "outputs": [
    {
     "name": "stdout",
     "output_type": "stream",
     "text": [
      "Accuracy: 0.9416\n",
      "Precision: 0.8704\n",
      "Recall: 0.9792\n",
      "ROC_AUC:, 0.9503\n",
      "F1: 0.9216\n",
      "[[ 0.71228215  0.35142738  0.44879667  0.24215752 -0.03851943  0.46990829\n",
      "   0.33568019  0.30914935  0.28055139]]\n"
     ]
    },
    {
     "data": {
      "image/png": "[encoded data removed]",
      "text/plain": [
       "<Figure size 432x288 with 2 Axes>"
      ]
     },
     "metadata": {
      "needs_background": "light"
     },
     "output_type": "display_data"
    }
   ],
   "source": [
    "from sklearn.linear_model import LogisticRegression\n",
    "X_train, X_test, y_train, y_test = train_test_split(features,  outcome, test_size=0.20, random_state=649)\n",
    "lr = LogisticRegression(solver='lbfgs')\n",
    "lr.fit(X_train, y_train)\n",
    "y_pred = lr.predict(X_test)\n",
    "bin_metrics(y_test, y_pred)\n",
    "plot_cm(y_test, y_pred)\n",
    "print(lr.coef_)"
   ]
  },
  {
   "cell_type": "code",
   "execution_count": null,
   "metadata": {},
   "outputs": [],
   "source": []
  },
  {
   "cell_type": "code",
   "execution_count": null,
   "metadata": {},
   "outputs": [],
   "source": []
  },
  {
   "cell_type": "code",
   "execution_count": null,
   "metadata": {},
   "outputs": [],
   "source": []
  },
  {
   "cell_type": "code",
   "execution_count": null,
   "metadata": {},
   "outputs": [],
   "source": []
  },
  {
   "cell_type": "code",
   "execution_count": null,
   "metadata": {},
   "outputs": [],
   "source": []
  },
  {
   "cell_type": "code",
   "execution_count": null,
   "metadata": {},
   "outputs": [],
   "source": []
  },
  {
   "cell_type": "markdown",
   "metadata": {},
   "source": [
    "# Checklist\n",
    "1. Frame the problem and look at the big picture.\n",
    "1. Get the data.\n",
    "1. Explore the data to gain insights.\n",
    "1. Prepare the data to better expose the underlying data patterns to Machine Learning algorithms.\n",
    "1. Explore many different models and shortlist the best ones.\n",
    "1. Fine-tune your models and combine them into a great solution.\n",
    "1. Present your solution.\n",
    "1. Launch, monitor, and maintain your system."
   ]
  },
  {
   "cell_type": "markdown",
   "metadata": {},
   "source": [
    "## Frame the problem. \n",
    "1. Define the objective in business terms.\n",
    "1. How will your solution be used?\n",
    "1. What are the current solutions/workarounds (if any)?\n",
    "1. How should you frame this problem (supervised/unsupervised, online/offline, etc.)?\n",
    "1. How should performance be measured?\n",
    "1. Is the performance measure aligned with the business objective?\n",
    "1. What would be the minimum performance needed to reach the business objective?\n",
    "1. What are comparable problems? Can you reuse experience or tools?\n",
    "1. Is human expertise available?\n",
    "1. How would you solve the problem manually?\n",
    "1. List the assumptions you (or others) have made so far.\n",
    "1. Verify assumptions if possible."
   ]
  },
  {
   "cell_type": "markdown",
   "metadata": {},
   "source": [
    "## Get the Data\n",
    "1. Problems with data stewardship?\n",
    "1. List the data you need and how much you need.\n",
    "1. Find and document where you can get that data.\n",
    "1. Check how much space it will take.\n",
    "1. Check legal obligations, and get authorization if necessary.\n",
    "1. Get access authorizations.\n",
    "1. Create a workspace (with enough storage space).\n",
    "1. Get the data.\n",
    "1. Convert the data to a format you can easily manipulate (without changing the data itself).\n",
    "1. Ensure sensitive information is deleted or protected (e.g., anonymized).\n",
    "1. Check the size and type of data (time series, sample, geographical, etc.).\n",
    "1. Sample a test set, put it aside, and never look at it (no data snooping!)."
   ]
  },
  {
   "cell_type": "markdown",
   "metadata": {},
   "source": [
    "## Explore the Data\n",
    "1. Create a copy of the data for exploration (sampling it down to a manageable size if necessary).\n",
    "1. Create a Jupyter notebook to keep a record of your data exploration.\n",
    "1. Study each attribute and its characteristics:\n",
    "    1. Name\n",
    "    1. Type (categorical, int/float, bounded/unbounded, text, structured, etc.)\n",
    "    1. % of missing values\n",
    "    1. Noisiness and type of noise (stochastic, outliers, rounding errors, etc.)\n",
    "    1. Usefulness for the task\n",
    "    1. Type of distribution (Gaussian, uniform, logarithmic, etc.)\n",
    "1. For supervised learning tasks, identify the target attribute(s).\n",
    "1. Visualize the data.\n",
    "1. Study the correlations between attributes.\n",
    "1. Study how you would solve the problem manually.\n",
    "1. Identify the promising transformations you may want to apply.\n",
    "1. Identify extra data that would be useful (go back to “Get the Data” ).\n",
    "1. Document what you have learned."
   ]
  },
  {
   "cell_type": "markdown",
   "metadata": {},
   "source": [
    "## Prepare the Data\n",
    "1. Work on copies of the data (keep the original dataset intact).\n",
    "1. Write functions for all data transformations you apply, for five reasons:\n",
    "1. So you can easily prepare the data the next time you get a fresh dataset\n",
    "1. So you can apply these transformations in future projects\n",
    "1. To clean and prepare the test set\n",
    "1. To clean and prepare new data instances once your solution is live\n",
    "1. To make it easy to treat your preparation choices as hyperparameters\n",
    "1. Data cleaning:\n",
    "    1. Fix or remove outliers (optional).\n",
    "    1. Fill in missing values (e.g., with zero, mean, median…) or drop their rows (or columns).\n",
    "1. Feature selection (optional):\n",
    "    1. Drop the attributes that provide no useful information for the task.\n",
    "1. Feature engineering, where appropriate:\n",
    "    1. Discretize continuous features.\n",
    "    1. Decompose features (e.g., categorical, date/time, etc.).\n",
    "    1. Add promising transformations of features (e.g., log( x ), sqrt( x ), x 2 , etc.).\n",
    "    1. Aggregate features into promising new features.\n",
    "1. Feature scaling:\n",
    "    1. Standardize or normalize features."
   ]
  },
  {
   "cell_type": "markdown",
   "metadata": {},
   "source": [
    "## Shortlist Promising Models\n",
    "1. If the data is huge, you may want to sample smaller training sets so you can train many different models in a reasonable time (be aware that this penalizes complex models such as large neural nets or Random Forests).\n",
    "1. Once again, try to automate these steps as much as possible.\n",
    "1. Train many quick-and-dirty models from different categories (e.g., linear, naive Bayes, SVM, Random Forest, neural net, etc.) using standard parameters.\n",
    "1. Measure and compare their performance.\n",
    "    1. For each model, use N fold cross-validation and compute the mean and standard deviation of the performance measure on the N folds.\n",
    "1. Analyze the most significant variables for each algorithm.\n",
    "1. Analyze the types of errors the models make.\n",
    "    1. What data would a human have used to avoid these errors?\n",
    "1. Perform a quick round of feature selection and engineering.\n",
    "1. Perform one or two more quick iterations of the five previous steps.\n",
    "1. Shortlist the top three to five most promising models, preferring models that make different types of errors."
   ]
  },
  {
   "cell_type": "markdown",
   "metadata": {},
   "source": [
    "## Fine-Tune the System\n",
    "1. You will want to use as much data as possible for this step, especially as you move toward the end of fine-tuning.\n",
    "1. As always, automate what you can.\n",
    "1. Fine-tune the hyperparameters using cross-validation:\n",
    "    1. Treat your data transformation choices as hyperparameters, especially when you are not sure about them (e.g., if you’re not sure whether to replace missing values with zeros or with the median value, or to just drop the rows).\n",
    "    1. Unless there are very few hyperparameter values to explore, prefer random search over grid search. If training is very long, you may prefer a Bayesian optimization approach (e.g., using Gaussian process priors, as described by Jasper Snoek et al.).\n",
    "1. Try Ensemble methods. Combining your best models will often produce better performance than running them individually.\n",
    "1. Once you are confident about your final model, measure its performance on the test set to estimate the generalization error."
   ]
  },
  {
   "cell_type": "markdown",
   "metadata": {},
   "source": [
    "## Present Your Solution\n",
    "1. Document what you have done.\n",
    "1. Create a nice presentation.\n",
    "1. Make sure you highlight the big picture first.\n",
    "1. Explain why your solution achieves the business objective.\n",
    "1. Don’t forget to present interesting points you noticed along the way.\n",
    "1. Describe what worked and what did not.\n",
    "1. List your assumptions and your system’s limitations.\n",
    "1. Ensure your key findings are communicated through beautiful visualizations or easy-to-remember statements (e.g., “the median income is the number-one predictor of housing prices”)."
   ]
  },
  {
   "cell_type": "markdown",
   "metadata": {},
   "source": [
    "## Launch!\n",
    "1. Get your solution ready for production (plug into production data inputs, write unit tests, etc.).\n",
    "1. Write monitoring code to check your system’s live performance at regular intervals and trigger alerts when it drops.\n",
    "    1. Beware of slow degradation: models tend to “rot” as data evolves.\n",
    "    1. Measuring performance may require a human pipeline (e.g., via a crowdsourcing service).\n",
    "    1. Also monitor your inputs’ quality (e.g., a malfunctioning sensor sending random values, or another team’s output becoming stale). This is particularly important for online learning systems.\n",
    "1. Retrain your models on a regular basis on fresh data (automate as much as possible )."
   ]
  },
  {
   "cell_type": "code",
   "execution_count": null,
   "metadata": {},
   "outputs": [],
   "source": []
  }
 ],
 "metadata": {
  "kernelspec": {
   "display_name": "Python 3",
   "language": "python",
   "name": "python3"
  },
  "language_info": {
   "codemirror_mode": {
    "name": "ipython",
    "version": 3
   },
   "file_extension": ".py",
   "mimetype": "text/x-python",
   "name": "python",
   "nbconvert_exporter": "python",
   "pygments_lexer": "ipython3",
   "version": "3.7.4"
  }
 },
 "nbformat": 4,
 "nbformat_minor": 2
}
