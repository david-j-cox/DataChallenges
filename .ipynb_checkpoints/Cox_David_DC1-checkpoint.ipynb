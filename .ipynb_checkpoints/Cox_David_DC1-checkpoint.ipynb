{
 "cells": [
  {
   "cell_type": "markdown",
   "metadata": {},
   "source": [
    "# Data Challenge 1:\n",
    "## Framing the problem\n",
    "### A company sells software for \\\\$39 and recently experimented with presenting users a higher price point of \\\\$59. The VP of product wants to know:\n",
    "1. Should the company sell its software for \\\\$39 or \\\\$59\n",
    "1. Are there actionable insights available from the available data. \n",
    "1. Could these results have been knowable more quickly? Did we run it too long?\n",
    "\n",
    "### Translated into tasks these might be rewritten as:\n",
    "1. Did we convert more people with \\\\$39 compared to \\\\$59? Did we make more money with \\\\$39 or \\\\$59?\n",
    "    1. Success here could be statistical significance (more money or not). Could also be practical significance (e.g., user feedback to company with increased price) - we don't have those data. \n",
    "1. Can we predict conversion (binary classification) as a function of the available features? Model could be used to individualize price point presented. \n",
    "    1. Success here measured by predictive ability of model and relative feature importance. \n",
    "1. Simple power analysis: How many observations needed to be collected to answer each question above?\n",
    "    1. Success here measured by identifying the number of observations needed to detect a statistically significant difference.  "
   ]
  },
  {
   "cell_type": "markdown",
   "metadata": {},
   "source": [
    "## Quick Answers:\n",
    "1. More people in the \\\\$39 group converted than in the \\\\$59 group. However, the company earned more money per person in the \\\\$59 group than in the \\\\$39 group. ANSWER: The company should price their software at \\\\$59. \n",
    "1. ANSWER: Yes! Optimized for recall because we don't want to lose a sale we thought we had. When this is done we find that IndividualId and geographical location were highest ranked features. This suggests individually targeted ads specific to region might improve sales. \n",
    "1. ANSWER: Yes, the test was run too long. From a statistically significant perspective, only ~ 1500 observations were needed. However, when starting this process I would have obtained more information on a specific effect size that would be meaningful to the company. That might change the estimate as I assumed a small effect size. "
   ]
  },
  {
   "cell_type": "markdown",
   "metadata": {},
   "source": [
    "# Exploring, cleaning, and preprocessing data"
   ]
  },
  {
   "cell_type": "code",
   "execution_count": 1,
   "metadata": {},
   "outputs": [],
   "source": [
    "# Packages we'll be using. \n",
    "import pandas as pd\n",
    "import seaborn as sns\n",
    "import matplotlib.pyplot as plt\n",
    "import numpy as np\n",
    "from datetime import datetime"
   ]
  },
  {
   "cell_type": "markdown",
   "metadata": {},
   "source": [
    "## Test Results Table"
   ]
  },
  {
   "cell_type": "code",
   "execution_count": 2,
   "metadata": {},
   "outputs": [
    {
     "name": "stdout",
     "output_type": "stream",
     "text": [
      "user_id               int64\n",
      "timestamp            object\n",
      "source               object\n",
      "device               object\n",
      "operative_system     object\n",
      "test                  int64\n",
      "price               float64\n",
      "converted             int64\n",
      "dtype: object\n"
     ]
    }
   ],
   "source": [
    "# Get a quick sense of what we're working with\n",
    "data_test = pd.read_csv('test_results.csv')\n",
    "test_results = data_test.copy()\n",
    "test_results = test_results.drop('Unnamed: 0', axis=1)\n",
    "tr_cols = list(test_results)\n",
    "print(test_results.dtypes)"
   ]
  },
  {
   "cell_type": "code",
   "execution_count": 3,
   "metadata": {},
   "outputs": [
    {
     "name": "stdout",
     "output_type": "stream",
     "text": [
      "Missing: 0 \n",
      " 2047      1\n",
      "338394    1\n",
      "465846    1\n",
      "407572    1\n",
      "753429    1\n",
      "         ..\n",
      "291876    1\n",
      "293925    1\n",
      "857669    1\n",
      "814119    1\n",
      "2049      1\n",
      "Name: user_id, Length: 316800, dtype: int64 \n",
      "\n",
      "Missing: 334 \n",
      " 2015-04-12 11:51:16    12\n",
      "2015-05-25 07:27:08    11\n",
      "2015-04-10 08:29:07    11\n",
      "2015-04-04 17:38:26    11\n",
      "2015-05-21 22:12:24    10\n",
      "                       ..\n",
      "2015-04-25 09:34:54     1\n",
      "2015-04-24 09:58:58     1\n",
      "2015-05-19 07:39:39     1\n",
      "2015-05-01 20:33:22     1\n",
      "2015-03-21 17:33:57     1\n",
      "Name: timestamp, Length: 141147, dtype: int64 \n",
      "\n",
      "Missing: 312 \n",
      " direct_traffic     60307\n",
      "ads-google         59319\n",
      "ads_facebook       53337\n",
      "ads_other          29849\n",
      "seo-google         23160\n",
      "ads-bing           22851\n",
      "seo_facebook       21185\n",
      "friend_referral    20672\n",
      "seo-other           9250\n",
      "ads-yahoo           7573\n",
      "seo-yahoo           6836\n",
      "seo-bing            2149\n",
      "Name: source, dtype: int64 \n",
      "\n",
      "Missing: 0 \n",
      " mobile    186471\n",
      "web       130329\n",
      "Name: device, dtype: int64 \n",
      "\n",
      "Missing: 20339 \n",
      " windows    100878\n",
      "iOS         95352\n",
      "android     74856\n",
      "mac         25056\n",
      "i0S           113\n",
      "wnddows        98\n",
      "anroid         79\n",
      "apple          29\n",
      "Name: operative_system, dtype: int64 \n",
      "\n",
      "Missing: 0 \n",
      " 0    202727\n",
      "1    114073\n",
      "Name: test, dtype: int64 \n",
      "\n",
      "Missing: 0 \n",
      " 39.0           200747\n",
      "59.0           112979\n",
      "536537851.0         1\n",
      "722005503.0         1\n",
      "362003840.0         1\n",
      "                ...  \n",
      "874195411.0         1\n",
      "873981330.0         1\n",
      "436979943.0         1\n",
      "873865897.0         1\n",
      "537168484.0         1\n",
      "Name: price, Length: 3076, dtype: int64 \n",
      "\n",
      "Missing: 0 \n",
      " 0    310992\n",
      "1      5808\n",
      "Name: converted, dtype: int64 \n",
      "\n"
     ]
    }
   ],
   "source": [
    "# Check out what kinds of data exist for each variable in the 'test_results' table. \n",
    "for i in tr_cols:\n",
    "    print(\"Missing:\", test_results[i].isna().sum(), \"\\n\", test_results[i].value_counts(), \"\\n\")"
   ]
  },
  {
   "cell_type": "markdown",
   "metadata": {},
   "source": [
    "### Takeaways : solutions from the test_results table\n",
    "- \"converted\" imbalanced: use random over-sampling to increase the signal in the noise\n",
    "- \"operative_system\" has ~20,000 missing vals: recode as an 'unknown' category\n",
    "- 'iOS' & 'windows' coded two different ways: fix spelling errors\n",
    "- \"price\" has outliers: remove from analysis\n",
    "- \"timestamp\" has ~300 missing vals: drop from the analysis\n",
    "- 'source' has ~ 300 missing vals: drop form the analysis"
   ]
  },
  {
   "cell_type": "markdown",
   "metadata": {},
   "source": [
    "### Implement the solutions to above takeaways"
   ]
  },
  {
   "cell_type": "code",
   "execution_count": 4,
   "metadata": {},
   "outputs": [
    {
     "data": {
      "text/plain": [
       "windows    100976\n",
       "iOS         95465\n",
       "android     74935\n",
       "mac         25056\n",
       "unknown     20368\n",
       "Name: operative_system, dtype: int64"
      ]
     },
     "execution_count": 4,
     "metadata": {},
     "output_type": "execute_result"
    }
   ],
   "source": [
    "# Recode 'operative _system' issues noted above\n",
    "test_results['operative_system'] = test_results['operative_system'].fillna('unknown') # chose to recode b/c of large n and possible other users will be unknown\n",
    "test_results['operative_system'] = test_results['operative_system'].replace('wnddows', 'windows')\n",
    "test_results['operative_system'] = test_results['operative_system'].replace('i0S', 'iOS')\n",
    "test_results['operative_system'] = test_results['operative_system'].replace('anroid', 'android')\n",
    "test_results['operative_system'] = test_results['operative_system'].replace('apple', 'unknown')\n",
    "test_results['operative_system'].value_counts()"
   ]
  },
  {
   "cell_type": "code",
   "execution_count": 5,
   "metadata": {},
   "outputs": [
    {
     "data": {
      "text/plain": [
       "39.0    200747\n",
       "59.0    112979\n",
       "Name: price, dtype: int64"
      ]
     },
     "execution_count": 5,
     "metadata": {},
     "output_type": "execute_result"
    }
   ],
   "source": [
    "# Remove outliers based on 'price' column\n",
    "test_results = test_results[test_results['price'] < 60]\n",
    "test_results['price'].value_counts()"
   ]
  },
  {
   "cell_type": "code",
   "execution_count": 6,
   "metadata": {},
   "outputs": [
    {
     "name": "stdout",
     "output_type": "stream",
     "text": [
      "Missing: 0 \n",
      " 2015-04-12 11:51:16    12\n",
      "2015-04-10 08:29:07    11\n",
      "2015-05-25 07:27:08    11\n",
      "2015-04-04 17:38:26    11\n",
      "2015-03-26 11:59:06    10\n",
      "                       ..\n",
      "2015-04-11 17:27:25     1\n",
      "2015-03-22 07:03:38     1\n",
      "2015-04-17 04:32:08     1\n",
      "2015-03-07 18:41:29     1\n",
      "2015-03-27 13:04:40     1\n",
      "Name: timestamp, Length: 140634, dtype: int64 \n",
      "\n",
      "Missing: 0 \n",
      " direct_traffic     59666\n",
      "ads-google         58686\n",
      "ads_facebook       52738\n",
      "ads_other          29533\n",
      "seo-google         22911\n",
      "ads-bing           22592\n",
      "seo_facebook       20953\n",
      "friend_referral    20458\n",
      "seo-other           9142\n",
      "ads-yahoo           7499\n",
      "seo-yahoo           6781\n",
      "seo-bing            2128\n",
      "Name: source, dtype: int64 \n",
      "\n"
     ]
    }
   ],
   "source": [
    "# Remove rows with missing vals from timestamp and source\n",
    "test_results = test_results.dropna()\n",
    "cols = ['timestamp', 'source']\n",
    "for i in cols:\n",
    "    print(\"Missing:\", test_results[i].isna().sum(), \"\\n\", test_results[i].value_counts(), \"\\n\")"
   ]
  },
  {
   "cell_type": "code",
   "execution_count": 7,
   "metadata": {},
   "outputs": [
    {
     "name": "stdout",
     "output_type": "stream",
     "text": [
      "Unique: [ 0. 59. 39.] \n",
      "\n",
      "Counts: 0.0     200409\n",
      "59.0    112525\n",
      "39.0       153\n",
      "Name: mult, dtype: int64\n"
     ]
    }
   ],
   "source": [
    "# Test the veracity of experimental control\n",
    "# Should see only '0' and '59' if the test group data is appropriately labeled\n",
    "test_results['mult'] = test_results['test'] * test_results['price']\n",
    "print(\"Unique:\", test_results['mult'].unique(), '\\n\\nCounts:', test_results['mult'].value_counts())"
   ]
  },
  {
   "cell_type": "code",
   "execution_count": 8,
   "metadata": {},
   "outputs": [
    {
     "name": "stdout",
     "output_type": "stream",
     "text": [
      "Unique: [0. 1.] \n",
      "\n",
      "Counts: 0.0    200562\n",
      "1.0    112525\n",
      "Name: mult, dtype: int64\n"
     ]
    }
   ],
   "source": [
    "# Output suggests 153 people were labeled as'test' group but saw $39 price. \n",
    "# Recode these to accurate test labels\n",
    "test_results['mult'] = test_results['mult'].replace(39, 0) # Recode error $39 to match control group 0\n",
    "test_results['mult'] = test_results['mult'].replace(59, 1) # Recode 59 to 1\n",
    "# Now the mult column contains the accurate test labels\n",
    "print(\"Unique:\", test_results['mult'].unique(), '\\n\\nCounts:', test_results['mult'].value_counts())"
   ]
  },
  {
   "cell_type": "code",
   "execution_count": 9,
   "metadata": {},
   "outputs": [],
   "source": [
    "# Drop mislabeled 'test' col and change 'mult' col label to 'test'\n",
    "test_results = test_results.drop(['test'], axis=1)\n",
    "test_results = test_results.rename(columns={'mult':'test'})"
   ]
  },
  {
   "cell_type": "markdown",
   "metadata": {},
   "source": [
    "## User Table Data: EDA & Cleaning"
   ]
  },
  {
   "cell_type": "code",
   "execution_count": 10,
   "metadata": {},
   "outputs": [
    {
     "name": "stdout",
     "output_type": "stream",
     "text": [
      "user_id      int64\n",
      "city        object\n",
      "country     object\n",
      "lat        float64\n",
      "long       float64\n",
      "dtype: object\n"
     ]
    }
   ],
   "source": [
    "# Get a quick sense of what we're working with\n",
    "data_user = pd.read_csv('user_table.csv')\n",
    "user_table = data_user.copy()\n",
    "usr_cols = list(user_table)\n",
    "print(user_table.dtypes)"
   ]
  },
  {
   "cell_type": "code",
   "execution_count": 11,
   "metadata": {},
   "outputs": [
    {
     "name": "stdout",
     "output_type": "stream",
     "text": [
      "Missing: 0 \n",
      " 2047      1\n",
      "658708    1\n",
      "783659    1\n",
      "779561    1\n",
      "257320    1\n",
      "         ..\n",
      "639403    1\n",
      "609923    1\n",
      "83586     1\n",
      "87680     1\n",
      "2049      1\n",
      "Name: user_id, Length: 275616, dtype: int64 \n",
      "\n",
      "Missing: 0 \n",
      " New York       25748\n",
      "Chicago         7153\n",
      "Houston         6706\n",
      "San Antonio     4633\n",
      "Los Angeles     4141\n",
      "               ...  \n",
      "Cerritos           1\n",
      "Costa Mesa         1\n",
      "Ocala              1\n",
      "New Milford        1\n",
      "East Lake          1\n",
      "Name: city, Length: 923, dtype: int64 \n",
      "\n",
      "Missing: 0 \n",
      " USA    275616\n",
      "Name: country, dtype: int64 \n",
      "\n",
      "Missing: 0 \n",
      " 40.67    25901\n",
      "41.84     7478\n",
      "29.77     6706\n",
      "29.46     4633\n",
      "34.11     4475\n",
      "         ...  \n",
      "36.53        3\n",
      "39.30        3\n",
      "35.12        3\n",
      "26.45        3\n",
      "27.98        1\n",
      "Name: lat, Length: 713, dtype: int64 \n",
      "\n",
      "Missing: 0 \n",
      " -73.94     25748\n",
      "-87.68      7153\n",
      "-95.39      6706\n",
      "-98.51      4633\n",
      "-118.41     4141\n",
      "           ...  \n",
      "-82.38         1\n",
      "-73.41         1\n",
      "-118.07        1\n",
      "-73.51         1\n",
      "-82.13         1\n",
      "Name: long, Length: 830, dtype: int64 \n",
      "\n"
     ]
    }
   ],
   "source": [
    "for i in usr_cols:\n",
    "    print(\"Missing:\", user_table[i].isna().sum(), \"\\n\", user_table[i].value_counts(), \"\\n\")"
   ]
  },
  {
   "cell_type": "code",
   "execution_count": 12,
   "metadata": {},
   "outputs": [
    {
     "data": {
      "text/plain": [
       "(array([  892.,     0., 26450., 50549., 40770., 62020., 94598.,     0.,\n",
       "            0.,     0.,     0.,     0.,     0.,     0.,   337.]),\n",
       " array([-157.8       , -145.25933333, -132.71866667, -120.178     ,\n",
       "        -107.63733333,  -95.09666667,  -82.556     ,  -70.01533333,\n",
       "         -57.47466667,  -44.934     ,  -32.39333333,  -19.85266667,\n",
       "          -7.312     ,    5.22866667,   17.76933333,   30.31      ]),\n",
       " <a list of 15 Patch objects>)"
      ]
     },
     "execution_count": 12,
     "metadata": {},
     "output_type": "execute_result"
    },
    {
     "data": {
      "image/png": "[encoded data removed]",
      "text/plain": [
       "<Figure size 432x288 with 2 Axes>"
      ]
     },
     "metadata": {
      "needs_background": "light"
     },
     "output_type": "display_data"
    }
   ],
   "source": [
    "# Histogram of latitude and longitude\n",
    "fig, axs = plt.subplots(1, 2, sharey=True, tight_layout=True)\n",
    "axs[0].hist(user_table['lat'], bins=15, color='black')\n",
    "axs[1].hist(user_table['long'], bins=15, color='black')"
   ]
  },
  {
   "cell_type": "code",
   "execution_count": 13,
   "metadata": {},
   "outputs": [
    {
     "data": {
      "image/png": "[encoded data removed]",
      "text/plain": [
       "<Figure size 720x720 with 1 Axes>"
      ]
     },
     "metadata": {
      "needs_background": "light"
     },
     "output_type": "display_data"
    }
   ],
   "source": [
    "# Bar plot of counts per city. \n",
    "city_count = user_table['city'].value_counts()\n",
    "city_count = city_count[:50,]\n",
    "plt.figure(figsize=(10,10))\n",
    "sns.barplot(city_count.values, city_count.index, color='black')\n",
    "plt.ylabel('City', fontsize=20)\n",
    "plt.xlabel('Number of Occurrences', fontsize=20)\n",
    "plt.show()"
   ]
  },
  {
   "cell_type": "code",
   "execution_count": 14,
   "metadata": {},
   "outputs": [
    {
     "name": "stdout",
     "output_type": "stream",
     "text": [
      "Num Unique user_id : 275616 \n",
      "\n",
      "\n",
      "Num Unique city : 923 \n",
      "\n",
      "\n",
      "Num Unique country : 1 \n",
      "\n",
      "\n",
      "Num Unique lat : 713 \n",
      "\n",
      "\n",
      "Num Unique long : 830 \n",
      "\n",
      "\n"
     ]
    }
   ],
   "source": [
    "cols = list(user_table)\n",
    "for i in user_table:\n",
    "    print(\"Num Unique\", i, \":\", len((user_table[i].unique())), \"\\n\\n\")"
   ]
  },
  {
   "cell_type": "markdown",
   "metadata": {},
   "source": [
    "### Takeaways from the user_table:\n",
    "- Imbalanced classes for city - recode into regions of country?\n",
    "- Only one country - drop"
   ]
  },
  {
   "cell_type": "code",
   "execution_count": 15,
   "metadata": {},
   "outputs": [
    {
     "name": "stdout",
     "output_type": "stream",
     "text": [
      "['user_id', 'city', 'lat', 'long']\n"
     ]
    }
   ],
   "source": [
    "# Drop country form user_table\n",
    "user_table = user_table.drop(['country'], axis=1)\n",
    "print(list(user_table))"
   ]
  },
  {
   "cell_type": "markdown",
   "metadata": {},
   "source": [
    "## Merge the two tables into one"
   ]
  },
  {
   "cell_type": "code",
   "execution_count": 16,
   "metadata": {},
   "outputs": [],
   "source": [
    "merged_data = pd.merge(test_results, user_table, on=\"user_id\", how='inner') # chose to keep only vals common to both\n",
    "merged_data.to_csv('merged_data.csv') # Save work thus far"
   ]
  },
  {
   "cell_type": "code",
   "execution_count": 17,
   "metadata": {},
   "outputs": [],
   "source": [
    "# Price and test cols are now redundant. Drop test so we an play with revenue estimates from pricing later.\n",
    "# Still in the merged_data.csv so we can bring back later if needed. \n",
    "# Drop timestamp data for now\n",
    "merged_data = merged_data.drop(['test'], axis=1)\n",
    "merged_data = merged_data.drop('user_id', axis=1)"
   ]
  },
  {
   "cell_type": "markdown",
   "metadata": {},
   "source": [
    "## Recode strings as numbers for ML algorithms"
   ]
  },
  {
   "cell_type": "code",
   "execution_count": 18,
   "metadata": {},
   "outputs": [
    {
     "data": {
      "text/plain": [
       "timestamp            object\n",
       "source               object\n",
       "device               object\n",
       "operative_system     object\n",
       "price               float64\n",
       "converted             int64\n",
       "city                 object\n",
       "lat                 float64\n",
       "long                float64\n",
       "dtype: object"
      ]
     },
     "execution_count": 18,
     "metadata": {},
     "output_type": "execute_result"
    }
   ],
   "source": [
    "merged_data.dtypes"
   ]
  },
  {
   "cell_type": "code",
   "execution_count": 19,
   "metadata": {},
   "outputs": [
    {
     "data": {
      "text/plain": [
       "(272382, 947)"
      ]
     },
     "execution_count": 19,
     "metadata": {},
     "output_type": "execute_result"
    }
   ],
   "source": [
    "cats_recode = merged_data.copy()\n",
    "\n",
    "# Recode timestamp via label encoding\n",
    "cats_recode = merged_data.copy()\n",
    "from sklearn import preprocessing\n",
    "le = preprocessing.LabelEncoder()\n",
    "cats_recode['timestamp'] = cats_recode['timestamp'].astype('category')\n",
    "cats_recode['timestamp'] = cats_recode['timestamp'].cat.codes\n",
    "\n",
    "# Recode other cols via one-hot encoding\n",
    "cols_recode = ['source', 'device', 'operative_system', 'city']\n",
    "cats_recode = pd.get_dummies(cats_recode, columns = cols_recode)\n",
    "cats_recode.shape # Check out the new shape"
   ]
  },
  {
   "cell_type": "code",
   "execution_count": 20,
   "metadata": {},
   "outputs": [],
   "source": [
    "# Save this point in the pipeline\n",
    "cats_recode.to_csv('cats_recode.csv')"
   ]
  },
  {
   "cell_type": "markdown",
   "metadata": {},
   "source": [
    "## Question 1: Did we convert more people using \\\\$59? Did we make more money using \\\\$39?"
   ]
  },
  {
   "cell_type": "code",
   "execution_count": 21,
   "metadata": {},
   "outputs": [
    {
     "name": "stdout",
     "output_type": "stream",
     "text": [
      "$39 Nums: 0    170903\n",
      "1      3445\n",
      "Name: converted, dtype: int64 \n",
      "$59 Nums: 0    96514\n",
      "1     1520\n",
      "Name: converted, dtype: int64 \n",
      "$39 Convert Prop: 0.0198 \n",
      "$59 Convert Prop: 0.0155\n"
     ]
    }
   ],
   "source": [
    "# Calculate proportions of people who were in each condition and converted. \n",
    "prop_39_data = cats_recode.loc[cats_recode['price']==39] # Create df for $39 group\n",
    "prop_59_data = cats_recode.loc[cats_recode['price']==59] # Create df for #59 group\n",
    "num_39_convert = prop_39_data['converted'].value_counts() # Get nums for contingency table\n",
    "num_59_convert = prop_59_data['converted'].value_counts() # Get nums for contingency table\n",
    "prop_39_convert = (prop_39_data['converted'].sum()) / (len(prop_39_data)) # Get proportion of conversions\n",
    "prop_59_convert = (prop_59_data['converted'].sum()) / (len(prop_59_data)) # Get proportion of conversions\n",
    "print(\"$39 Nums:\", num_39_convert, \"\\n$59 Nums:\", num_59_convert, \\\n",
    "      \"\\n$39 Convert Prop:\", round(prop_39_convert, 4), \"\\n$59 Convert Prop:\", round(prop_59_convert, 4))"
   ]
  },
  {
   "cell_type": "code",
   "execution_count": 22,
   "metadata": {},
   "outputs": [
    {
     "name": "stdout",
     "output_type": "stream",
     "text": [
      "statistic = 3445.000; \n",
      "p-value = 0.000\n",
      "\n",
      "Different proportions of conversions. It's unlikely we would have observed these data if the pricing difference did not influence conversions.\n"
     ]
    }
   ],
   "source": [
    "# McNemar test because conversions are proportions and come from a binomial distribution\n",
    "from statsmodels.stats.contingency_tables import mcnemar\n",
    "table = [[170903, 3445], \n",
    "         [96514, 1520]]\n",
    "result = mcnemar(table, exact=True) # exact set to true so we're using the binomial distribution, not chi-squared distribution\n",
    "print('statistic = %.3f; \\np-value = %.3f' % (result.statistic, result.pvalue))\n",
    "# interpret the p-value\n",
    "alpha = 0.05\n",
    "if result.pvalue > alpha:\n",
    "\tprint('\\nSame proportions of conversion. The test is unlikely to have influenced conversion.')\n",
    "else:\n",
    "\tprint('\\nDifferent proportions of conversions. It\\'s unlikely we would have observed these data if the pricing difference did not influence conversions.')"
   ]
  },
  {
   "cell_type": "code",
   "execution_count": 23,
   "metadata": {},
   "outputs": [
    {
     "name": "stdout",
     "output_type": "stream",
     "text": [
      "$39 Earned per person: 0.7706 \n",
      "$59 Earned per person: 0.9148\n"
     ]
    }
   ],
   "source": [
    "# Calculate total money earned per person in each condition. \n",
    "money_earned_39 = (3445*39) / (len(prop_39_data)) # Money earned per person exposed\n",
    "money_earned_59 = (1520*59) / (len(prop_59_data)) # Money earned per person exposed\n",
    "print(\"$39 Earned per person:\", round(money_earned_39, 4), \"\\n$59 Earned per person:\", round(money_earned_59, 4))"
   ]
  },
  {
   "cell_type": "code",
   "execution_count": 24,
   "metadata": {},
   "outputs": [
    {
     "name": "stdout",
     "output_type": "stream",
     "text": [
      "Statistic=8512275031.000; \n",
      "p=0.000\n",
      "\n",
      "Different distribution. It's unlikely we would have observed these data if the pricing differences did not influence the overal amount of money earned.\n"
     ]
    }
   ],
   "source": [
    "# Mann-Whitney test because groups are unmatched and money per person comes from a non-Gaussian distribution\n",
    "from scipy.stats import mannwhitneyu\n",
    "money_39 = prop_39_data.loc[:, ['price', 'converted']]\n",
    "money_59 = prop_59_data.loc[:, ['price', 'converted']]\n",
    "money_39['mon_earned'] = money_39['price']*money_39['converted']\n",
    "money_59['mon_earned'] = money_59['price']*money_59['converted']\n",
    "# compare samples\n",
    "stat, p = mannwhitneyu(money_39['mon_earned'], money_59['mon_earned'])\n",
    "print('Statistic=%.3f; \\np=%.3f' % (stat, p))\n",
    "# interpret\n",
    "alpha = 0.05\n",
    "if p > alpha:\n",
    "\tprint('\\nSame distribution. The test us unlikely to have influenced overall money earned.')\n",
    "else:\n",
    "\tprint('\\nDifferent distribution. It\\'s unlikely we would have observed these data if the pricing differences did not influence the overal amount of money earned.')"
   ]
  },
  {
   "cell_type": "markdown",
   "metadata": {},
   "source": [
    "# Question 2: Are there actionable insights from the data?"
   ]
  },
  {
   "cell_type": "markdown",
   "metadata": {},
   "source": [
    "### Start with seeing how well we can predict conversion. All three business questions seem to focus on conversion (i.e., binary classification). \n",
    "### Because feature importance matters, algorithms without that info are not helpful (e.g., kNN). \n",
    "### Algorithms to test:\n",
    "1. Logistic classifier\n",
    "1. Support vector machine\n",
    "1. Random Forest"
   ]
  },
  {
   "cell_type": "code",
   "execution_count": 25,
   "metadata": {},
   "outputs": [],
   "source": [
    "# Stuff we'll need throughout\n",
    "from sklearn import metrics\n",
    "from sklearn.metrics import accuracy_score, f1_score, precision_score, recall_score, roc_auc_score, confusion_matrix\n",
    "from sklearn.model_selection import train_test_split\n",
    "features = cats_recode.drop(['converted'], axis=1)\n",
    "outcome = cats_recode['converted']"
   ]
  },
  {
   "cell_type": "code",
   "execution_count": 26,
   "metadata": {},
   "outputs": [],
   "source": [
    "# Resampling the minority class of conversion (i.e., first run through led to difficulties with convergence and funky outputs). \n",
    "from imblearn.over_sampling import RandomOverSampler # Using naive random sampler as it seemed the simplest and I was most comfortable with the process\n",
    "ros = RandomOverSampler(random_state=0)\n",
    "X_resampled, y_resampled = ros.fit_resample(features, outcome)"
   ]
  },
  {
   "cell_type": "code",
   "execution_count": 27,
   "metadata": {},
   "outputs": [],
   "source": [
    "# Some functions we'll use. \n",
    "def bin_metrics(x, y):\n",
    "    '''Prints four common metrics for evaluating classification predictions.'''\n",
    "    print('Accuracy:', round(metrics.accuracy_score(x, y), 4))\n",
    "    print('Precision:', round(metrics.precision_score(x, y), 4))\n",
    "    print('Recall:', round(metrics.recall_score(x, y), 4))\n",
    "    print('ROC_AUC:,', round(metrics.roc_auc_score(x, y), 4))\n",
    "    print('F1:', round(metrics.f1_score(x, y), 4))\n",
    "\n",
    "def plot_cm(x, y):\n",
    "    cm = confusion_matrix(x, y)\n",
    "    df_cm = pd.DataFrame(cm, columns=np.unique(x), index = np.unique(x))\n",
    "    df_cm.index.name = 'Actual'\n",
    "    df_cm.columns.name = 'Predicted'\n",
    "    sns.heatmap(df_cm, cmap=\"Blues\", annot=True,annot_kws={\"size\": 20}, fmt='g')# font size\n",
    "    plt.ylim([0, 2])"
   ]
  },
  {
   "cell_type": "markdown",
   "metadata": {},
   "source": [
    "## Logistic Classifier:\n",
    "- Advantages: less prone to over-fitting (except with high-dimensional data); gives size and direction of predictors; easy to implement, interpret, and train. \n",
    "- Disadvantages: assumption of linearity between variables"
   ]
  },
  {
   "cell_type": "code",
   "execution_count": 28,
   "metadata": {},
   "outputs": [
    {
     "name": "stdout",
     "output_type": "stream",
     "text": [
      "Accuracy: 0.5704\n",
      "Precision: 0.5738\n",
      "Recall: 0.5605\n",
      "ROC_AUC:, 0.5704\n",
      "F1: 0.5671\n"
     ]
    },
    {
     "data": {
      "image/png": "[encoded data removed]",
      "text/plain": [
       "<Figure size 432x288 with 2 Axes>"
      ]
     },
     "metadata": {
      "needs_background": "light"
     },
     "output_type": "display_data"
    }
   ],
   "source": [
    "from sklearn.linear_model import LogisticRegression\n",
    "X_train, X_test, y_train, y_test = train_test_split(X_resampled,  y_resampled, test_size=0.20, random_state=333)\n",
    "lr = LogisticRegression(solver='lbfgs')\n",
    "lr.fit(X_train, y_train)\n",
    "y_pred = lr.predict(X_test)\n",
    "bin_metrics(y_test, y_pred)\n",
    "plot_cm(y_test, y_pred)"
   ]
  },
  {
   "cell_type": "markdown",
   "metadata": {},
   "source": [
    "## Support Vector Machine:\n",
    "- Advantages: Effective in high dimensional spaces (this project) and uses a subset of training points in the decision function so it is memory efficient.\n",
    "- Disadvantages: Does not directly provide probability estimates but are calculated using expensive five-fold cross-validation."
   ]
  },
  {
   "cell_type": "code",
   "execution_count": 29,
   "metadata": {},
   "outputs": [
    {
     "name": "stderr",
     "output_type": "stream",
     "text": [
      "/opt/anaconda3/lib/python3.7/site-packages/sklearn/svm/_base.py:947: ConvergenceWarning: Liblinear failed to converge, increase the number of iterations.\n",
      "  \"the number of iterations.\", ConvergenceWarning)\n",
      "/opt/anaconda3/lib/python3.7/site-packages/sklearn/svm/_base.py:947: ConvergenceWarning: Liblinear failed to converge, increase the number of iterations.\n",
      "  \"the number of iterations.\", ConvergenceWarning)\n",
      "/opt/anaconda3/lib/python3.7/site-packages/sklearn/svm/_base.py:947: ConvergenceWarning: Liblinear failed to converge, increase the number of iterations.\n",
      "  \"the number of iterations.\", ConvergenceWarning)\n"
     ]
    },
    {
     "name": "stdout",
     "output_type": "stream",
     "text": [
      "Max Accuracy: 0.5263\n",
      "Max F1: 0.6259\n"
     ]
    },
    {
     "data": {
      "image/png": "[encoded data removed]",
      "text/plain": [
       "<Figure size 432x288 with 1 Axes>"
      ]
     },
     "metadata": {
      "needs_background": "light"
     },
     "output_type": "display_data"
    }
   ],
   "source": [
    "from sklearn import svm\n",
    "X_train, X_test, y_train, y_test = train_test_split(X_resampled,  y_resampled, test_size=0.20, random_state = 333)\n",
    "acc_scores = []\n",
    "f1_scores = []\n",
    "C_range = [0.01, 1, 100]\n",
    "for i in C_range:\n",
    "    classifier = svm.LinearSVC(C=i, max_iter=10000)\n",
    "    classifier.fit(X_train, y_train)\n",
    "    pred_train= classifier.predict(X_train)\n",
    "    pred_test= classifier.predict(X_test)\n",
    "    acc_val = metrics.accuracy_score(y_test, pred_test)\n",
    "    acc_scores.append(acc_val)\n",
    "    f1_val = f1_score(y_test, pred_test)\n",
    "    f1_scores.append(f1_val)\n",
    "plt.plot(acc_scores, marker='o', color='black')\n",
    "plt.plot(f1_scores, marker='o', color='blue')\n",
    "print(\"Max Accuracy:\", round(max(acc_scores), 4))\n",
    "print('Max F1:', round(max(f1_scores), 4))"
   ]
  },
  {
   "cell_type": "markdown",
   "metadata": {},
   "source": [
    "## Random Forest:\n",
    "- Advantages: Less-probability of over-fitting and random forest more accurate than decision trees in most cases.\n",
    "- Disadvantages: Slow real time prediction (not an issue?), difficult to implement, and complex algorithm."
   ]
  },
  {
   "cell_type": "code",
   "execution_count": 30,
   "metadata": {},
   "outputs": [
    {
     "name": "stdout",
     "output_type": "stream",
     "text": [
      "Max Accuracy: 0.9935\n",
      "Max F1: 0.9936\n"
     ]
    },
    {
     "data": {
      "image/png": "[encoded data removed]",
      "text/plain": [
       "<Figure size 432x288 with 1 Axes>"
      ]
     },
     "metadata": {
      "needs_background": "light"
     },
     "output_type": "display_data"
    }
   ],
   "source": [
    "from sklearn.ensemble import RandomForestClassifier\n",
    "X_train, X_test, y_train, y_test = train_test_split(X_resampled,  y_resampled, test_size=0.20, random_state = 333)\n",
    "acc_scores = []\n",
    "f1_scores = []\n",
    "nEst_range = [10, 50, 500]\n",
    "depth_range = [2, 10, 100]\n",
    "for i in nEst_range:\n",
    "    for k in depth_range:\n",
    "        classifier = RandomForestClassifier(n_estimators=i, max_depth=k)\n",
    "        classifier.fit(X_train, y_train)\n",
    "        pred_train= classifier.predict(X_train)\n",
    "        pred_test= classifier.predict(X_test)\n",
    "        acc_val = metrics.accuracy_score(y_test, pred_test)\n",
    "        acc_scores.append(acc_val)\n",
    "        f1_val = f1_score(y_test, pred_test)\n",
    "        f1_scores.append(f1_val)\n",
    "plt.plot(acc_scores, marker='o', color='black')\n",
    "plt.plot(f1_scores, marker='o', color='blue')\n",
    "print(\"Max Accuracy:\", round(max(acc_scores), 4))\n",
    "print('Max F1:', round(max(f1_scores), 4))"
   ]
  },
  {
   "cell_type": "markdown",
   "metadata": {},
   "source": [
    "### The RF model seemed to do best. We'll use RF with the optimal hyperparams from above as the final model. This can give us an idea of feature importance for actionable insights. "
   ]
  },
  {
   "cell_type": "code",
   "execution_count": 31,
   "metadata": {},
   "outputs": [
    {
     "name": "stdout",
     "output_type": "stream",
     "text": [
      "Accuracy: 0.9889\n",
      "Precision: 0.9817\n",
      "Recall: 0.9965\n",
      "ROC_AUC:, 0.9889\n",
      "F1: 0.989\n"
     ]
    },
    {
     "data": {
      "image/png": "[encoded data removed]",
      "text/plain": [
       "<Figure size 432x288 with 2 Axes>"
      ]
     },
     "metadata": {
      "needs_background": "light"
     },
     "output_type": "display_data"
    }
   ],
   "source": [
    "# Create final model to get feature importance\n",
    "X_train, X_test, y_train, y_test = train_test_split(X_resampled,  y_resampled, test_size=0.20, random_state = 333)\n",
    "classifier = RandomForestClassifier(n_estimators=10, max_depth=100)\n",
    "classifier.fit(X_train, y_train)\n",
    "pred_train= classifier.predict(X_train)\n",
    "pred_test= classifier.predict(X_test)\n",
    "acc_val = metrics.accuracy_score(y_test, pred_test)\n",
    "f1_val = f1_score(y_test, pred_test)\n",
    "bin_metrics(y_test, pred_test)\n",
    "plot_cm(y_test, pred_test)"
   ]
  },
  {
   "cell_type": "code",
   "execution_count": 32,
   "metadata": {},
   "outputs": [
    {
     "name": "stdout",
     "output_type": "stream",
     "text": [
      "                          importance\n",
      "timestamp                   0.307259\n",
      "lat                         0.069498\n",
      "long                        0.068317\n",
      "price                       0.024565\n",
      "source_friend_referral      0.018726\n",
      "source_direct_traffic       0.011154\n",
      "source_ads_facebook         0.007800\n",
      "source_seo-google           0.007436\n",
      "operative_system_android    0.007416\n",
      "source_ads-google           0.007366\n"
     ]
    }
   ],
   "source": [
    "feature_importances = pd.DataFrame(classifier.feature_importances_, index = X_train.columns, \n",
    "                                   columns=['importance']).sort_values('importance', ascending=False)\n",
    "print(feature_importances.head(10))"
   ]
  },
  {
   "cell_type": "markdown",
   "metadata": {},
   "source": [
    "### Actionable insights: The most important features seem to be (1) time and individual, &  (2) geographical location . These can be used to:\n",
    "- Increase/add data collection on individual user information. Might allow for more individualized and targeted ads in the future. \n",
    "- These data suggest more rigorous analysis of geographical location might improve individualized, targeted adds. This might involve a next A/B test of geographical boundaries. \n",
    "- Where users are coming from and the operating system they're using doesn't seem to matter - i.e., no worries about individualizing adds or website experiences based on these variables. "
   ]
  },
  {
   "cell_type": "markdown",
   "metadata": {},
   "source": [
    "# Question #3: Was the test run for to long? Assuming statistical difference is the deciding factor, then a power analysis would give us that answer. "
   ]
  },
  {
   "cell_type": "code",
   "execution_count": 33,
   "metadata": {},
   "outputs": [
    {
     "name": "stdout",
     "output_type": "stream",
     "text": [
      "Number of Observations Needed to Detect Effect Size of:\n",
      " 0.01: 1417.0 \n",
      "0.05: 57.0 \n",
      "0.09: 17.0\n"
     ]
    }
   ],
   "source": [
    "import statsmodels.stats.power as power\n",
    "chipower = power.GofChisquarePower()\n",
    "eff_01 = chipower.solve_power(effect_size=0.1, nobs=None, alpha=0.05, power=0.9, n_bins=4)\n",
    "eff_05 = chipower.solve_power(effect_size=0.5, nobs=None, alpha=0.05, power=0.9, n_bins=4)\n",
    "eff_09 = chipower.solve_power(effect_size=0.9, nobs=None, alpha=0.05, power=0.9, n_bins=4)\n",
    "print(\"Number of Observations Needed to Detect Effect Size of:\\n\", \"0.01:\", round(eff_01, 0), \"\\n0.05:\", \\\n",
    "      round(eff_05, 0), \"\\n0.09:\", round(eff_09, 0))"
   ]
  },
  {
   "cell_type": "markdown",
   "metadata": {},
   "source": [
    "### It looks like a small effect of pricing on conversion should be detectable with ~ 1500 observations. This is much smaller than the total number of observations used in the test (n=275,000). "
   ]
  },
  {
   "cell_type": "code",
   "execution_count": null,
   "metadata": {},
   "outputs": [],
   "source": []
  },
  {
   "cell_type": "code",
   "execution_count": null,
   "metadata": {},
   "outputs": [],
   "source": []
  },
  {
   "cell_type": "code",
   "execution_count": null,
   "metadata": {},
   "outputs": [],
   "source": []
  },
  {
   "cell_type": "code",
   "execution_count": null,
   "metadata": {},
   "outputs": [],
   "source": []
  },
  {
   "cell_type": "code",
   "execution_count": null,
   "metadata": {},
   "outputs": [],
   "source": []
  },
  {
   "cell_type": "code",
   "execution_count": null,
   "metadata": {},
   "outputs": [],
   "source": []
  },
  {
   "cell_type": "code",
   "execution_count": null,
   "metadata": {},
   "outputs": [],
   "source": []
  },
  {
   "cell_type": "code",
   "execution_count": null,
   "metadata": {},
   "outputs": [],
   "source": []
  },
  {
   "cell_type": "code",
   "execution_count": null,
   "metadata": {},
   "outputs": [],
   "source": []
  },
  {
   "cell_type": "code",
   "execution_count": null,
   "metadata": {},
   "outputs": [],
   "source": []
  },
  {
   "cell_type": "code",
   "execution_count": 34,
   "metadata": {},
   "outputs": [
    {
     "name": "stdout",
     "output_type": "stream",
     "text": [
      "Max Accuracy: 0.99\n",
      "Max F1: 0.99\n"
     ]
    },
    {
     "data": {
      "image/png": "[encoded data removed]",
      "text/plain": [
       "<Figure size 432x288 with 1 Axes>"
      ]
     },
     "metadata": {
      "needs_background": "light"
     },
     "output_type": "display_data"
    }
   ],
   "source": [
    "#k-NN:\n",
    "# Advantages: This algorithm is simple to implement, robust to noisy training data, and effective if training data is large.\n",
    "# Disadvantages: Need to determine the value of K and the computation cost is high as it needs to computer the distance of each instance to all the training samples.\n",
    "from sklearn.neighbors import KNeighborsClassifier\n",
    "X_train, X_test, y_train, y_test = train_test_split(X_resampled,  y_resampled, test_size=0.20, random_state = 0)\n",
    "acc_scores = []\n",
    "f1_scores = []\n",
    "neigh_range = list(range(1, 5))\n",
    "for i in neigh_range:\n",
    "    classifier = KNeighborsClassifier(n_neighbors=i)\n",
    "    classifier.fit(X_train, y_train)\n",
    "    pred_train= classifier.predict(X_train)\n",
    "    pred_test= classifier.predict(X_test)\n",
    "    acc_val = metrics.accuracy_score(y_test, pred_test)\n",
    "    acc_scores.append(acc_val)\n",
    "    f1_val = f1_score(y_test, pred_test)\n",
    "    f1_scores.append(f1_val)\n",
    "plt.plot(acc_scores, marker='o', color='black')\n",
    "plt.plot(f1_scores, marker='o', color='blue')\n",
    "print(\"Max Accuracy:\", round(max(acc_scores), 2))\n",
    "print('Max F1:', round(max(f1_scores), 2))"
   ]
  },
  {
   "cell_type": "code",
   "execution_count": 35,
   "metadata": {},
   "outputs": [
    {
     "name": "stdout",
     "output_type": "stream",
     "text": [
      "Accuracy: 0.5704\n",
      "Precision: 0.5738\n",
      "Recall: 0.5605\n",
      "ROC_AUC:, 0.5704\n",
      "F1: 0.5671\n"
     ]
    },
    {
     "data": {
      "image/png": "[encoded data removed]",
      "text/plain": [
       "<Figure size 432x288 with 2 Axes>"
      ]
     },
     "metadata": {
      "needs_background": "light"
     },
     "output_type": "display_data"
    }
   ],
   "source": [
    "# Naive Bayes Classifier\n",
    "# Benefits: simple, runs in linear time making it easy to scale. \n",
    "# Drawbacks: Zero probability problem; known to be a bad estimator\n",
    "from sklearn.naive_bayes import GaussianNB\n",
    "X_train, X_test, y_train, y_test = train_test_split(X_resampled, y_resampled, test_size=0.20, random_state = 333)\n",
    "classifier = GaussianNB()\n",
    "classifier.fit(X_train, y_train)\n",
    "pred_train= classifier.predict(X_train)\n",
    "pred_test= classifier.predict(X_test)\n",
    "bin_metrics(y_test, y_pred)\n",
    "plot_cm(y_test, y_pred)"
   ]
  }
 ],
 "metadata": {
  "kernelspec": {
   "display_name": "Python 3",
   "language": "python",
   "name": "python3"
  },
  "language_info": {
   "codemirror_mode": {
    "name": "ipython",
    "version": 3
   },
   "file_extension": ".py",
   "mimetype": "text/x-python",
   "name": "python",
   "nbconvert_exporter": "python",
   "pygments_lexer": "ipython3",
   "version": "3.7.4"
  }
 },
 "nbformat": 4,
 "nbformat_minor": 2
}
