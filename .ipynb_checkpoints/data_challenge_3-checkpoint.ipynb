{
 "cells": [
  {
   "cell_type": "markdown",
   "metadata": {},
   "source": [
    "# Checklist\n",
    "1. Frame the problem and look at the big picture.\n",
    "1. Get the data.\n",
    "1. Explore the data to gain insights.\n",
    "1. Prepare the data to better expose the underlying data patterns to Machine Learning algorithms.\n",
    "1. Explore many different models and shortlist the best ones.\n",
    "1. Fine-tune your models and combine them into a great solution.\n",
    "1. Present your solution.\n",
    "1. Launch, monitor, and maintain your system."
   ]
  },
  {
   "cell_type": "markdown",
   "metadata": {},
   "source": [
    "## Frame the problem. \n",
    "1. Define the objective in business terms.\n",
    "1. How will your solution be used?\n",
    "1. What are the current solutions/workarounds (if any)?\n",
    "1. How should you frame this problem (supervised/unsupervised, online/offline, etc.)?\n",
    "1. How should performance be measured?\n",
    "1. Is the performance measure aligned with the business objective?\n",
    "1. What would be the minimum performance needed to reach the business objective?\n",
    "1. What are comparable problems? Can you reuse experience or tools?\n",
    "1. Is human expertise available?\n",
    "1. How would you solve the problem manually?\n",
    "1. List the assumptions you (or others) have made so far.\n",
    "1. Verify assumptions if possible."
   ]
  },
  {
   "cell_type": "markdown",
   "metadata": {},
   "source": [
    "## Get the Data\n",
    "1. Problems with data stewardship?\n",
    "1. List the data you need and how much you need.\n",
    "1. Find and document where you can get that data.\n",
    "1. Check how much space it will take.\n",
    "1. Check legal obligations, and get authorization if necessary.\n",
    "1. Get access authorizations.\n",
    "1. Create a workspace (with enough storage space).\n",
    "1. Get the data.\n",
    "1. Convert the data to a format you can easily manipulate (without changing the data itself).\n",
    "1. Ensure sensitive information is deleted or protected (e.g., anonymized).\n",
    "1. Check the size and type of data (time series, sample, geographical, etc.).\n",
    "1. Sample a test set, put it aside, and never look at it (no data snooping!)."
   ]
  },
  {
   "cell_type": "markdown",
   "metadata": {},
   "source": [
    "## Explore the Data\n",
    "1. Create a copy of the data for exploration (sampling it down to a manageable size if necessary).\n",
    "1. Create a Jupyter notebook to keep a record of your data exploration.\n",
    "1. Study each attribute and its characteristics:\n",
    "    1. Name\n",
    "    1. Type (categorical, int/float, bounded/unbounded, text, structured, etc.)\n",
    "    1. % of missing values\n",
    "    1. Noisiness and type of noise (stochastic, outliers, rounding errors, etc.)\n",
    "    1. Usefulness for the task\n",
    "    1. Type of distribution (Gaussian, uniform, logarithmic, etc.)\n",
    "1. For supervised learning tasks, identify the target attribute(s).\n",
    "1. Visualize the data.\n",
    "1. Study the correlations between attributes.\n",
    "1. Study how you would solve the problem manually.\n",
    "1. Identify the promising transformations you may want to apply.\n",
    "1. Identify extra data that would be useful (go back to “Get the Data” ).\n",
    "1. Document what you have learned."
   ]
  },
  {
   "cell_type": "markdown",
   "metadata": {},
   "source": [
    "## Prepare the Data\n",
    "1. Work on copies of the data (keep the original dataset intact).\n",
    "1. Write functions for all data transformations you apply, for five reasons:\n",
    "1. So you can easily prepare the data the next time you get a fresh dataset\n",
    "1. So you can apply these transformations in future projects\n",
    "1. To clean and prepare the test set\n",
    "1. To clean and prepare new data instances once your solution is live\n",
    "1. To make it easy to treat your preparation choices as hyperparameters\n",
    "1. Data cleaning:\n",
    "    1. Fix or remove outliers (optional).\n",
    "    1. Fill in missing values (e.g., with zero, mean, median…) or drop their rows (or columns).\n",
    "1. Feature selection (optional):\n",
    "    1. Drop the attributes that provide no useful information for the task.\n",
    "1. Feature engineering, where appropriate:\n",
    "    1. Discretize continuous features.\n",
    "    1. Decompose features (e.g., categorical, date/time, etc.).\n",
    "    1. Add promising transformations of features (e.g., log( x ), sqrt( x ), x 2 , etc.).\n",
    "    1. Aggregate features into promising new features.\n",
    "1. Feature scaling:\n",
    "    1. Standardize or normalize features."
   ]
  },
  {
   "cell_type": "markdown",
   "metadata": {},
   "source": [
    "## Shortlist Promising Models\n",
    "1. If the data is huge, you may want to sample smaller training sets so you can train many different models in a reasonable time (be aware that this penalizes complex models such as large neural nets or Random Forests).\n",
    "1. Once again, try to automate these steps as much as possible.\n",
    "1. Train many quick-and-dirty models from different categories (e.g., linear, naive Bayes, SVM, Random Forest, neural net, etc.) using standard parameters.\n",
    "1. Measure and compare their performance.\n",
    "    1. For each model, use N fold cross-validation and compute the mean and standard deviation of the performance measure on the N folds.\n",
    "1. Analyze the most significant variables for each algorithm.\n",
    "1. Analyze the types of errors the models make.\n",
    "    1. What data would a human have used to avoid these errors?\n",
    "1. Perform a quick round of feature selection and engineering.\n",
    "1. Perform one or two more quick iterations of the five previous steps.\n",
    "1. Shortlist the top three to five most promising models, preferring models that make different types of errors."
   ]
  },
  {
   "cell_type": "markdown",
   "metadata": {},
   "source": [
    "## Fine-Tune the System\n",
    "1. You will want to use as much data as possible for this step, especially as you move toward the end of fine-tuning.\n",
    "1. As always, automate what you can.\n",
    "1. Fine-tune the hyperparameters using cross-validation:\n",
    "    1. Treat your data transformation choices as hyperparameters, especially when you are not sure about them (e.g., if you’re not sure whether to replace missing values with zeros or with the median value, or to just drop the rows).\n",
    "    1. Unless there are very few hyperparameter values to explore, prefer random search over grid search. If training is very long, you may prefer a Bayesian optimization approach (e.g., using Gaussian process priors, as described by Jasper Snoek et al.).\n",
    "1. Try Ensemble methods. Combining your best models will often produce better performance than running them individually.\n",
    "1. Once you are confident about your final model, measure its performance on the test set to estimate the generalization error."
   ]
  },
  {
   "cell_type": "markdown",
   "metadata": {},
   "source": [
    "## Present Your Solution\n",
    "1. Document what you have done.\n",
    "1. Create a nice presentation.\n",
    "1. Make sure you highlight the big picture first.\n",
    "1. Explain why your solution achieves the business objective.\n",
    "1. Don’t forget to present interesting points you noticed along the way.\n",
    "1. Describe what worked and what did not.\n",
    "1. List your assumptions and your system’s limitations.\n",
    "1. Ensure your key findings are communicated through beautiful visualizations or easy-to-remember statements (e.g., “the median income is the number-one predictor of housing prices”)."
   ]
  },
  {
   "cell_type": "markdown",
   "metadata": {},
   "source": [
    "## Launch!\n",
    "1. Get your solution ready for production (plug into production data inputs, write unit tests, etc.).\n",
    "1. Write monitoring code to check your system’s live performance at regular intervals and trigger alerts when it drops.\n",
    "    1. Beware of slow degradation: models tend to “rot” as data evolves.\n",
    "    1. Measuring performance may require a human pipeline (e.g., via a crowdsourcing service).\n",
    "    1. Also monitor your inputs’ quality (e.g., a malfunctioning sensor sending random values, or another team’s output becoming stale). This is particularly important for online learning systems.\n",
    "1. Retrain your models on a regular basis on fresh data (automate as much as possible )."
   ]
  },
  {
   "cell_type": "code",
   "execution_count": null,
   "metadata": {},
   "outputs": [],
   "source": []
  }
 ],
 "metadata": {
  "kernelspec": {
   "display_name": "Python 3",
   "language": "python",
   "name": "python3"
  },
  "language_info": {
   "codemirror_mode": {
    "name": "ipython",
    "version": 3
   },
   "file_extension": ".py",
   "mimetype": "text/x-python",
   "name": "python",
   "nbconvert_exporter": "python",
   "pygments_lexer": "ipython3",
   "version": "3.7.4"
  }
 },
 "nbformat": 4,
 "nbformat_minor": 2
}
